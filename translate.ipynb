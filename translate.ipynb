{
 "cells": [
  {
   "metadata": {
    "ExecuteTime": {
     "end_time": "2024-04-25T22:37:56.118620Z",
     "start_time": "2024-04-25T22:37:56.114059Z"
    }
   },
   "cell_type": "code",
   "source": "from google.cloud import translate_v2 as translate",
   "id": "f0f331edb967ae92",
   "outputs": [],
   "execution_count": 11
  },
  {
   "metadata": {
    "ExecuteTime": {
     "end_time": "2024-04-25T22:37:57.292875Z",
     "start_time": "2024-04-25T22:37:57.283595Z"
    }
   },
   "cell_type": "code",
   "source": [
    "from dotenv import load_dotenv\n",
    "import os\n",
    "load_dotenv()"
   ],
   "id": "7bc696f7fcc25c8a",
   "outputs": [
    {
     "data": {
      "text/plain": [
       "True"
      ]
     },
     "execution_count": 12,
     "metadata": {},
     "output_type": "execute_result"
    }
   ],
   "execution_count": 12
  },
  {
   "metadata": {
    "ExecuteTime": {
     "end_time": "2024-04-25T22:37:59.206165Z",
     "start_time": "2024-04-25T22:37:59.198258Z"
    }
   },
   "cell_type": "code",
   "source": "os.environ[\"GOOGLE_APPLICATION_CREDENTIALS\"] = os.getenv(\"TRANSLATION_CREDENTIALS_PATH\")",
   "id": "36bc28b36bfa2721",
   "outputs": [],
   "execution_count": 13
  },
  {
   "metadata": {
    "ExecuteTime": {
     "end_time": "2024-04-25T22:38:04.175910Z",
     "start_time": "2024-04-25T22:38:04.171024Z"
    }
   },
   "cell_type": "code",
   "source": [
    "def translate_text(target: str, text: str) -> dict:\n",
    "    \"\"\"Translates text into the target language.\n",
    "\n",
    "    Target must be an ISO 639-1 language code.\n",
    "    See https://g.co/cloud/translate/v2/translate-reference#supported_languages\n",
    "    \"\"\"\n",
    "\n",
    "    translate_client = translate.Client()\n",
    "\n",
    "    if isinstance(text, bytes):\n",
    "        text = text.decode(\"utf-8\")\n",
    "\n",
    "    # Text can also be a sequence of strings, in which case this method\n",
    "    # will return a sequence of results for each text.\n",
    "    result = translate_client.translate(text, target_language=target)\n",
    "\n",
    "    print(\"Text: {}\".format(result[\"input\"]))\n",
    "    print(\"Translation: {}\".format(result[\"translatedText\"]))\n",
    "    print(\"Detected source language: {}\".format(result[\"detectedSourceLanguage\"]))\n",
    "\n",
    "    return result\n"
   ],
   "id": "initial_id",
   "outputs": [],
   "execution_count": 14
  },
  {
   "metadata": {
    "ExecuteTime": {
     "end_time": "2024-04-25T22:38:07.551754Z",
     "start_time": "2024-04-25T22:38:07.548735Z"
    }
   },
   "cell_type": "code",
   "source": "given='我住在美国'",
   "id": "5d97d8346e46d128",
   "outputs": [],
   "execution_count": 15
  },
  {
   "metadata": {
    "ExecuteTime": {
     "end_time": "2024-04-25T22:38:10.087685Z",
     "start_time": "2024-04-25T22:38:09.568274Z"
    }
   },
   "cell_type": "code",
   "source": "translate_text('en',given)",
   "id": "74db957c55ca9191",
   "outputs": [
    {
     "name": "stdout",
     "output_type": "stream",
     "text": [
      "Text: 我住在美国\n",
      "Translation: I live in the United States\n",
      "Detected source language: zh-CN\n"
     ]
    },
    {
     "data": {
      "text/plain": [
       "{'translatedText': 'I live in the United States',\n",
       " 'detectedSourceLanguage': 'zh-CN',\n",
       " 'input': '我住在美国'}"
      ]
     },
     "execution_count": 16,
     "metadata": {},
     "output_type": "execute_result"
    }
   ],
   "execution_count": 16
  },
  {
   "metadata": {
    "ExecuteTime": {
     "end_time": "2024-04-24T23:26:34.229900Z",
     "start_time": "2024-04-24T23:26:34.217928Z"
    }
   },
   "cell_type": "code",
   "source": "reverse='I live in New York City'",
   "id": "2b32ab579b51f778",
   "outputs": [],
   "execution_count": 25
  },
  {
   "metadata": {
    "ExecuteTime": {
     "end_time": "2024-04-24T23:26:36.383513Z",
     "start_time": "2024-04-24T23:26:36.014754Z"
    }
   },
   "cell_type": "code",
   "source": "translate_text('zh',reverse)",
   "id": "9e0144131b576f9",
   "outputs": [
    {
     "name": "stdout",
     "output_type": "stream",
     "text": [
      "Text: I live in New York City\n",
      "Translation: 我住在纽约市\n",
      "Detected source language: en\n"
     ]
    },
    {
     "data": {
      "text/plain": [
       "{'translatedText': '我住在纽约市',\n",
       " 'detectedSourceLanguage': 'en',\n",
       " 'input': 'I live in New York City'}"
      ]
     },
     "execution_count": 26,
     "metadata": {},
     "output_type": "execute_result"
    }
   ],
   "execution_count": 26
  },
  {
   "metadata": {},
   "cell_type": "code",
   "outputs": [],
   "execution_count": null,
   "source": "",
   "id": "38c0b208148f9c6"
  }
 ],
 "metadata": {
  "kernelspec": {
   "display_name": "Python 3",
   "language": "python",
   "name": "python3"
  },
  "language_info": {
   "codemirror_mode": {
    "name": "ipython",
    "version": 2
   },
   "file_extension": ".py",
   "mimetype": "text/x-python",
   "name": "python",
   "nbconvert_exporter": "python",
   "pygments_lexer": "ipython2",
   "version": "2.7.6"
  }
 },
 "nbformat": 4,
 "nbformat_minor": 5
}
