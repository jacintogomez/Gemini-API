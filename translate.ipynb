{
 "cells": [
  {
   "metadata": {
    "ExecuteTime": {
     "end_time": "2024-04-28T02:05:25.692919Z",
     "start_time": "2024-04-28T02:05:25.502376Z"
    }
   },
   "cell_type": "code",
   "source": "from google.cloud import translate_v2 as translate",
   "id": "f0f331edb967ae92",
   "outputs": [],
   "execution_count": 1
  },
  {
   "metadata": {
    "ExecuteTime": {
     "end_time": "2024-04-28T02:05:25.703873Z",
     "start_time": "2024-04-28T02:05:25.694844Z"
    }
   },
   "cell_type": "code",
   "source": [
    "from dotenv import load_dotenv\n",
    "import os\n",
    "load_dotenv()"
   ],
   "id": "7bc696f7fcc25c8a",
   "outputs": [
    {
     "data": {
      "text/plain": [
       "True"
      ]
     },
     "execution_count": 2,
     "metadata": {},
     "output_type": "execute_result"
    }
   ],
   "execution_count": 2
  },
  {
   "metadata": {
    "ExecuteTime": {
     "end_time": "2024-04-28T02:05:26.336400Z",
     "start_time": "2024-04-28T02:05:26.333652Z"
    }
   },
   "cell_type": "code",
   "source": "os.environ[\"GOOGLE_APPLICATION_CREDENTIALS\"] = os.getenv(\"TRANSLATION_CREDENTIALS_PATH\")",
   "id": "36bc28b36bfa2721",
   "outputs": [],
   "execution_count": 3
  },
  {
   "metadata": {
    "ExecuteTime": {
     "end_time": "2024-04-28T02:05:26.996622Z",
     "start_time": "2024-04-28T02:05:26.993742Z"
    }
   },
   "cell_type": "code",
   "source": [
    "def translate_text(target: str, text: str) -> dict:\n",
    "    \"\"\"Translates text into the target language.\n",
    "\n",
    "    Target must be an ISO 639-1 language code.\n",
    "    See https://g.co/cloud/translate/v2/translate-reference#supported_languages\n",
    "    \"\"\"\n",
    "\n",
    "    translate_client = translate.Client()\n",
    "\n",
    "    if isinstance(text, bytes):\n",
    "        text = text.decode(\"utf-8\")\n",
    "\n",
    "    # Text can also be a sequence of strings, in which case this method\n",
    "    # will return a sequence of results for each text.\n",
    "    result = translate_client.translate(text, target_language=target)\n",
    "\n",
    "    print(\"Text: {}\".format(result[\"input\"]))\n",
    "    print(\"Translation: {}\".format(result[\"translatedText\"]))\n",
    "    print(\"Detected source language: {}\".format(result[\"detectedSourceLanguage\"]))\n",
    "\n",
    "    return result\n"
   ],
   "id": "initial_id",
   "outputs": [],
   "execution_count": 4
  },
  {
   "metadata": {
    "ExecuteTime": {
     "end_time": "2024-04-28T02:05:27.809134Z",
     "start_time": "2024-04-28T02:05:27.806089Z"
    }
   },
   "cell_type": "code",
   "source": "given='我住在美国'",
   "id": "5d97d8346e46d128",
   "outputs": [],
   "execution_count": 5
  },
  {
   "metadata": {
    "ExecuteTime": {
     "end_time": "2024-04-28T02:05:47.551192Z",
     "start_time": "2024-04-28T02:05:47.192393Z"
    }
   },
   "cell_type": "code",
   "source": "result=translate_text('en',given)",
   "id": "74db957c55ca9191",
   "outputs": [
    {
     "name": "stdout",
     "output_type": "stream",
     "text": [
      "Text: 我住在美国\n",
      "Translation: I live in the United States\n",
      "Detected source language: zh-CN\n"
     ]
    }
   ],
   "execution_count": 9
  },
  {
   "metadata": {
    "ExecuteTime": {
     "end_time": "2024-04-28T02:05:32.139869Z",
     "start_time": "2024-04-28T02:05:32.136713Z"
    }
   },
   "cell_type": "code",
   "source": "reverse='I live in New York City'",
   "id": "2b32ab579b51f778",
   "outputs": [],
   "execution_count": 7
  },
  {
   "metadata": {
    "ExecuteTime": {
     "end_time": "2024-04-28T02:05:33.138218Z",
     "start_time": "2024-04-28T02:05:32.759334Z"
    }
   },
   "cell_type": "code",
   "source": "translate_text('zh',reverse)",
   "id": "9e0144131b576f9",
   "outputs": [
    {
     "name": "stdout",
     "output_type": "stream",
     "text": [
      "Text: I live in New York City\n",
      "Translation: 我住在纽约市\n",
      "Detected source language: en\n"
     ]
    },
    {
     "data": {
      "text/plain": [
       "{'translatedText': '我住在纽约市',\n",
       " 'detectedSourceLanguage': 'en',\n",
       " 'input': 'I live in New York City'}"
      ]
     },
     "execution_count": 8,
     "metadata": {},
     "output_type": "execute_result"
    }
   ],
   "execution_count": 8
  },
  {
   "metadata": {
    "ExecuteTime": {
     "end_time": "2024-04-28T02:05:56.308489Z",
     "start_time": "2024-04-28T02:05:56.289664Z"
    }
   },
   "cell_type": "code",
   "source": "print(result)",
   "id": "38c0b208148f9c6",
   "outputs": [
    {
     "name": "stdout",
     "output_type": "stream",
     "text": [
      "{'translatedText': 'I live in the United States', 'detectedSourceLanguage': 'zh-CN', 'input': '我住在美国'}\n"
     ]
    }
   ],
   "execution_count": 10
  },
  {
   "metadata": {
    "ExecuteTime": {
     "end_time": "2024-04-28T02:06:20.705921Z",
     "start_time": "2024-04-28T02:06:20.695765Z"
    }
   },
   "cell_type": "code",
   "source": "print(result['translatedText'])",
   "id": "dd4c0c49a0a4b7b2",
   "outputs": [
    {
     "name": "stdout",
     "output_type": "stream",
     "text": [
      "I live in the United States\n"
     ]
    }
   ],
   "execution_count": 12
  },
  {
   "metadata": {},
   "cell_type": "code",
   "outputs": [],
   "execution_count": null,
   "source": "",
   "id": "cfd18909474c934f"
  }
 ],
 "metadata": {
  "kernelspec": {
   "display_name": "Python 3",
   "language": "python",
   "name": "python3"
  },
  "language_info": {
   "codemirror_mode": {
    "name": "ipython",
    "version": 2
   },
   "file_extension": ".py",
   "mimetype": "text/x-python",
   "name": "python",
   "nbconvert_exporter": "python",
   "pygments_lexer": "ipython2",
   "version": "2.7.6"
  }
 },
 "nbformat": 4,
 "nbformat_minor": 5
}
