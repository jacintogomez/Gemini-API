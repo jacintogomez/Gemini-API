{
 "cells": [
  {
   "cell_type": "code",
   "id": "initial_id",
   "metadata": {
    "collapsed": true,
    "ExecuteTime": {
     "end_time": "2024-04-30T00:08:04.317683Z",
     "start_time": "2024-04-30T00:08:01.675041Z"
    }
   },
   "source": "import vertexai",
   "outputs": [],
   "execution_count": 1
  },
  {
   "metadata": {
    "ExecuteTime": {
     "end_time": "2024-04-30T00:08:04.322042Z",
     "start_time": "2024-04-30T00:08:04.318609Z"
    }
   },
   "cell_type": "code",
   "source": "from vertexai.generative_models import GenerativeModel, ChatSession",
   "id": "1381d58fdc05ecf3",
   "outputs": [],
   "execution_count": 2
  },
  {
   "metadata": {
    "ExecuteTime": {
     "end_time": "2024-04-30T00:36:36.564234Z",
     "start_time": "2024-04-30T00:36:36.517936Z"
    }
   },
   "cell_type": "code",
   "source": [
    "from dotenv import load_dotenv\n",
    "import os\n",
    "load_dotenv()"
   ],
   "id": "1ae29c82f23cd281",
   "outputs": [
    {
     "data": {
      "text/plain": [
       "True"
      ]
     },
     "execution_count": 19,
     "metadata": {},
     "output_type": "execute_result"
    }
   ],
   "execution_count": 19
  },
  {
   "metadata": {
    "ExecuteTime": {
     "end_time": "2024-04-30T00:30:20.146110Z",
     "start_time": "2024-04-30T00:30:20.129097Z"
    }
   },
   "cell_type": "code",
   "source": "os.environ[\"GOOGLE_APPLICATION_CREDENTIALS\"] = os.getenv(\"TRANSLATION_CREDENTIALS_PATH\")",
   "id": "75b45604ff1740d7",
   "outputs": [],
   "execution_count": 12
  },
  {
   "metadata": {
    "ExecuteTime": {
     "end_time": "2024-04-30T00:30:26.335816Z",
     "start_time": "2024-04-30T00:30:26.328376Z"
    }
   },
   "cell_type": "code",
   "source": [
    "project_id=os.getenv(\"CLOUD_PROJECT_ID\")\n",
    "location=os.getenv(\"CLOUD_PROJECT_LOCATION\")"
   ],
   "id": "7ee7881d0c923131",
   "outputs": [],
   "execution_count": 13
  },
  {
   "metadata": {
    "ExecuteTime": {
     "end_time": "2024-04-30T00:30:26.966190Z",
     "start_time": "2024-04-30T00:30:26.958344Z"
    }
   },
   "cell_type": "code",
   "source": [
    "vertexai.init(project=project_id, location=location)\n",
    "model = GenerativeModel(model_name=\"gemini-1.0-pro-002\")\n",
    "chat = model.start_chat()"
   ],
   "id": "5d182a93aef9183f",
   "outputs": [],
   "execution_count": 14
  },
  {
   "metadata": {
    "ExecuteTime": {
     "end_time": "2024-04-30T00:30:27.489357Z",
     "start_time": "2024-04-30T00:30:27.487317Z"
    }
   },
   "cell_type": "code",
   "source": [
    "def get_chat_response(chat: ChatSession, prompt: str) -> str:\n",
    "    text_response = []\n",
    "    responses = chat.send_message(prompt, stream=True)\n",
    "    for chunk in responses:\n",
    "        text_response.append(chunk.text)\n",
    "    return \"\".join(text_response)"
   ],
   "id": "aabb991934cb11d",
   "outputs": [],
   "execution_count": 15
  },
  {
   "metadata": {
    "ExecuteTime": {
     "end_time": "2024-04-30T00:30:29.907692Z",
     "start_time": "2024-04-30T00:30:28.370904Z"
    }
   },
   "cell_type": "code",
   "source": [
    "prompt = \"Hello.\"\n",
    "print(get_chat_response(chat, prompt))"
   ],
   "id": "88dc80606110a2f",
   "outputs": [
    {
     "name": "stdout",
     "output_type": "stream",
     "text": [
      "Hello! 👋 I'm glad you're here. What can I do for you today? 😊\n"
     ]
    }
   ],
   "execution_count": 16
  },
  {
   "metadata": {
    "ExecuteTime": {
     "end_time": "2024-04-30T00:30:36.012521Z",
     "start_time": "2024-04-30T00:30:33.580Z"
    }
   },
   "cell_type": "code",
   "source": [
    "prompt = \"What are all the colors in a rainbow?\"\n",
    "print(get_chat_response(chat, prompt))"
   ],
   "id": "fe5cd484bf5a38af",
   "outputs": [
    {
     "name": "stdout",
     "output_type": "stream",
     "text": [
      "A rainbow typically displays a spectrum of seven colors: \n",
      "\n",
      "1. Red 🔴\n",
      "2. Orange 🟠\n",
      "3. Yellow 🟡\n",
      "4. Green 🟢\n",
      "5. Blue 🔵\n",
      "6. Indigo 靛\n",
      "7. Violet 🟣\n",
      "\n",
      "These colors appear in a specific order due to the way sunlight interacts with water droplets in the atmosphere. When sunlight passes through a raindrop, it is bent and separated into its different wavelengths, which correspond to different colors. \n",
      "\n",
      "It's important to note that the colors in a rainbow are not always perfectly distinct, and the exact number of visible colors can vary depending on factors like the size of the water droplets and the viewing angle. \n",
      "\n",
      "Is there anything else you'd like to know about rainbows? 🌈\n"
     ]
    }
   ],
   "execution_count": 17
  },
  {
   "metadata": {
    "ExecuteTime": {
     "end_time": "2024-04-30T00:30:44.291262Z",
     "start_time": "2024-04-30T00:30:40.035281Z"
    }
   },
   "cell_type": "code",
   "source": [
    "prompt = \"Why does it appear when it rains?\"\n",
    "print(get_chat_response(chat, prompt))"
   ],
   "id": "d82513f7039535a7",
   "outputs": [
    {
     "name": "stdout",
     "output_type": "stream",
     "text": [
      "A rainbow appears when sunlight interacts with water droplets in the air, typically after or during rain. \n",
      "\n",
      "Here's a breakdown of the process:\n",
      "\n",
      "1. **Sunlight enters the water droplets:** As sunlight enters a raindrop, it slows down and bends. This bending of light is called refraction.\n",
      "\n",
      "2. **Light separates into colors:** Different colors of light bend at slightly different angles, causing them to separate. This separation is what creates the rainbow's spectrum of colors.\n",
      "\n",
      "3. **Reflection and refraction:** The separated colors then bounce off the back of the water droplet (reflection) and are refracted again as they exit the droplet.\n",
      "\n",
      "4. **Observer sees the rainbow:** The observer sees the colors that are refracted at a specific angle to their eye, creating the arc-shaped rainbow. \n",
      "\n",
      "The position of the sun and the observer relative to the raindrops is crucial for seeing a rainbow. The sun must be behind the observer, and the raindrops must be in front of them. That's why rainbows are often seen in the sky opposite the sun after a rain shower.\n",
      "\n",
      "Here are some additional points to remember:\n",
      "\n",
      "* The colors in a rainbow always appear in the same order, from red on the outside to violet on the inside.\n",
      "* The size of the rainbow depends on the size of the water droplets. Smaller droplets produce larger rainbows.\n",
      "* Rainbows can also appear in the mist of waterfalls or even in the spray of a garden hose.\n",
      "\n",
      "Do you have any other questions about rainbows? 🌈\n"
     ]
    }
   ],
   "execution_count": 18
  },
  {
   "metadata": {},
   "cell_type": "code",
   "outputs": [],
   "execution_count": null,
   "source": "",
   "id": "7d845275cc7d8515"
  }
 ],
 "metadata": {
  "kernelspec": {
   "display_name": "Python 3",
   "language": "python",
   "name": "python3"
  },
  "language_info": {
   "codemirror_mode": {
    "name": "ipython",
    "version": 2
   },
   "file_extension": ".py",
   "mimetype": "text/x-python",
   "name": "python",
   "nbconvert_exporter": "python",
   "pygments_lexer": "ipython2",
   "version": "2.7.6"
  }
 },
 "nbformat": 4,
 "nbformat_minor": 5
}
