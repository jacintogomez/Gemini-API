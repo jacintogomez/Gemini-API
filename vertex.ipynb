{
 "cells": [
  {
   "cell_type": "code",
   "id": "initial_id",
   "metadata": {
    "collapsed": true,
    "ExecuteTime": {
     "end_time": "2024-04-30T00:49:56.822079Z",
     "start_time": "2024-04-30T00:49:54.036612Z"
    }
   },
   "source": "import vertexai",
   "outputs": [],
   "execution_count": 1
  },
  {
   "metadata": {
    "ExecuteTime": {
     "end_time": "2024-04-30T00:49:56.827696Z",
     "start_time": "2024-04-30T00:49:56.823261Z"
    }
   },
   "cell_type": "code",
   "source": "from vertexai.generative_models import GenerativeModel, ChatSession",
   "id": "1381d58fdc05ecf3",
   "outputs": [],
   "execution_count": 2
  },
  {
   "metadata": {
    "ExecuteTime": {
     "end_time": "2024-04-30T00:49:56.835305Z",
     "start_time": "2024-04-30T00:49:56.828313Z"
    }
   },
   "cell_type": "code",
   "source": [
    "from dotenv import load_dotenv\n",
    "import os\n",
    "load_dotenv()"
   ],
   "id": "1ae29c82f23cd281",
   "outputs": [
    {
     "data": {
      "text/plain": [
       "True"
      ]
     },
     "execution_count": 3,
     "metadata": {},
     "output_type": "execute_result"
    }
   ],
   "execution_count": 3
  },
  {
   "metadata": {
    "ExecuteTime": {
     "end_time": "2024-04-30T00:49:57.113178Z",
     "start_time": "2024-04-30T00:49:57.110478Z"
    }
   },
   "cell_type": "code",
   "source": "os.environ[\"GOOGLE_APPLICATION_CREDENTIALS\"] = os.getenv(\"TRANSLATION_CREDENTIALS_PATH\")",
   "id": "75b45604ff1740d7",
   "outputs": [],
   "execution_count": 4
  },
  {
   "metadata": {
    "ExecuteTime": {
     "end_time": "2024-04-30T00:49:58.687246Z",
     "start_time": "2024-04-30T00:49:58.676305Z"
    }
   },
   "cell_type": "code",
   "source": [
    "project_id=os.getenv(\"CLOUD_PROJECT_ID\")\n",
    "location=os.getenv(\"CLOUD_PROJECT_LOCATION\")"
   ],
   "id": "7ee7881d0c923131",
   "outputs": [],
   "execution_count": 5
  },
  {
   "metadata": {
    "ExecuteTime": {
     "end_time": "2024-04-30T00:50:39.043834Z",
     "start_time": "2024-04-30T00:50:39.025970Z"
    }
   },
   "cell_type": "code",
   "source": [
    "vertexai.init(project=project_id, location=location)\n",
    "model = GenerativeModel(\n",
    "    model_name=\"gemini-1.0-pro-002\",\n",
    "    system_instruction=[\n",
    "        \"Keep the conversation going as if you were a human. Give a brief response of about 1-2 sentences in the same language that the input is given in\",\n",
    "    ],\n",
    ")\n",
    "chat = model.start_chat()"
   ],
   "id": "5d182a93aef9183f",
   "outputs": [],
   "execution_count": 9
  },
  {
   "metadata": {
    "ExecuteTime": {
     "end_time": "2024-04-30T00:57:19.305868Z",
     "start_time": "2024-04-30T00:57:19.285997Z"
    }
   },
   "cell_type": "code",
   "source": [
    "def get_chat_response(chat: ChatSession, prompt: str) -> str:\n",
    "    text_response = []\n",
    "    responses = chat.send_message(prompt)\n",
    "    for chunk in responses:\n",
    "        text_response.append(chunk.text)\n",
    "    return \"\".join(text_response)"
   ],
   "id": "aabb991934cb11d",
   "outputs": [],
   "execution_count": 13
  },
  {
   "metadata": {
    "ExecuteTime": {
     "end_time": "2024-04-30T00:57:22.856710Z",
     "start_time": "2024-04-30T00:57:21.104422Z"
    }
   },
   "cell_type": "code",
   "source": [
    "prompt = \"Hello.\"\n",
    "print(get_chat_response(chat, prompt))"
   ],
   "id": "88dc80606110a2f",
   "outputs": [
    {
     "ename": "TypeError",
     "evalue": "'GenerationResponse' object is not subscriptable",
     "output_type": "error",
     "traceback": [
      "\u001B[0;31m---------------------------------------------------------------------------\u001B[0m",
      "\u001B[0;31mTypeError\u001B[0m                                 Traceback (most recent call last)",
      "Cell \u001B[0;32mIn[14], line 2\u001B[0m\n\u001B[1;32m      1\u001B[0m prompt \u001B[38;5;241m=\u001B[39m \u001B[38;5;124m\"\u001B[39m\u001B[38;5;124mHello.\u001B[39m\u001B[38;5;124m\"\u001B[39m\n\u001B[0;32m----> 2\u001B[0m \u001B[38;5;28mprint\u001B[39m(\u001B[43mget_chat_response\u001B[49m\u001B[43m(\u001B[49m\u001B[43mchat\u001B[49m\u001B[43m,\u001B[49m\u001B[43m \u001B[49m\u001B[43mprompt\u001B[49m\u001B[43m)\u001B[49m)\n",
      "Cell \u001B[0;32mIn[13], line 4\u001B[0m, in \u001B[0;36mget_chat_response\u001B[0;34m(chat, prompt)\u001B[0m\n\u001B[1;32m      2\u001B[0m text_response \u001B[38;5;241m=\u001B[39m []\n\u001B[1;32m      3\u001B[0m responses \u001B[38;5;241m=\u001B[39m chat\u001B[38;5;241m.\u001B[39msend_message(prompt)\n\u001B[0;32m----> 4\u001B[0m \u001B[38;5;28;01mreturn\u001B[39;00m \u001B[43mresponses\u001B[49m\u001B[43m[\u001B[49m\u001B[38;5;124;43m'\u001B[39;49m\u001B[38;5;124;43mcandidates\u001B[39;49m\u001B[38;5;124;43m'\u001B[39;49m\u001B[43m]\u001B[49m[\u001B[38;5;124m'\u001B[39m\u001B[38;5;124mcontent\u001B[39m\u001B[38;5;124m'\u001B[39m][\u001B[38;5;124m'\u001B[39m\u001B[38;5;124mparts\u001B[39m\u001B[38;5;124m'\u001B[39m][\u001B[38;5;124m'\u001B[39m\u001B[38;5;124mtext\u001B[39m\u001B[38;5;124m'\u001B[39m]\n",
      "\u001B[0;31mTypeError\u001B[0m: 'GenerationResponse' object is not subscriptable"
     ]
    }
   ],
   "execution_count": 14
  },
  {
   "metadata": {},
   "cell_type": "code",
   "source": [
    "prompt = \"What are all the colors in a rainbow?\"\n",
    "print(get_chat_response(chat, prompt))"
   ],
   "id": "fe5cd484bf5a38af",
   "outputs": [],
   "execution_count": null
  },
  {
   "metadata": {
    "ExecuteTime": {
     "end_time": "2024-04-30T00:50:42.781583Z",
     "start_time": "2024-04-30T00:50:41.792778Z"
    }
   },
   "cell_type": "code",
   "source": [
    "prompt = \"Mi casa estoy frio\"\n",
    "print(get_chat_response(chat, prompt))"
   ],
   "id": "d82513f7039535a7",
   "outputs": [
    {
     "name": "stdout",
     "output_type": "stream",
     "text": [
      "Lo siento, no puedo ayudarte con eso. No tengo acceso a información sobre el clima en tu zona.\n"
     ]
    }
   ],
   "execution_count": 10
  },
  {
   "metadata": {},
   "cell_type": "code",
   "source": "",
   "id": "36adf3e666bf63bf",
   "outputs": [],
   "execution_count": null
  }
 ],
 "metadata": {
  "kernelspec": {
   "display_name": "Python 3",
   "language": "python",
   "name": "python3"
  },
  "language_info": {
   "codemirror_mode": {
    "name": "ipython",
    "version": 2
   },
   "file_extension": ".py",
   "mimetype": "text/x-python",
   "name": "python",
   "nbconvert_exporter": "python",
   "pygments_lexer": "ipython2",
   "version": "2.7.6"
  }
 },
 "nbformat": 4,
 "nbformat_minor": 5
}
