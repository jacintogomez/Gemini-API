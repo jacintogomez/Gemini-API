{
 "cells": [
  {
   "cell_type": "code",
   "id": "initial_id",
   "metadata": {
    "collapsed": true,
    "ExecuteTime": {
     "end_time": "2024-04-29T23:29:15.308318Z",
     "start_time": "2024-04-29T23:29:14.978500Z"
    }
   },
   "source": [
    "import google.generativeai as genai\n",
    "from google.cloud import translate_v2 as translate"
   ],
   "outputs": [],
   "execution_count": 1
  },
  {
   "metadata": {
    "ExecuteTime": {
     "end_time": "2024-04-29T23:29:17.678279Z",
     "start_time": "2024-04-29T23:29:15.309220Z"
    }
   },
   "cell_type": "code",
   "source": [
    "import pygame\n",
    "import torch\n",
    "import sounddevice as sd\n",
    "import os\n",
    "from transformers import AutoModelForSpeechSeq2Seq, AutoProcessor, pipeline\n",
    "from scipy.io.wavfile import write\n",
    "from dotenv import load_dotenv\n",
    "from openai import OpenAI\n",
    "from langchain_openai import ChatOpenAI\n",
    "from langchain_core.prompts import ChatPromptTemplate\n",
    "from langchain_core.output_parsers import StrOutputParser\n",
    "from google.cloud import texttospeech"
   ],
   "id": "8f0eb6ba2fff7192",
   "outputs": [
    {
     "name": "stdout",
     "output_type": "stream",
     "text": [
      "pygame 2.5.2 (SDL 2.28.3, Python 3.11.8)\n",
      "Hello from the pygame community. https://www.pygame.org/contribute.html\n"
     ]
    }
   ],
   "execution_count": 2
  },
  {
   "metadata": {
    "ExecuteTime": {
     "end_time": "2024-04-29T23:29:17.701374Z",
     "start_time": "2024-04-29T23:29:17.679318Z"
    }
   },
   "cell_type": "code",
   "source": [
    "load_dotenv()\n",
    "GOOGLE_API_KEY=os.getenv(\"GOOGLE_API_KEY\")\n",
    "openai_api_key=os.getenv(\"OPENAI_API_KEY\")\n",
    "client=OpenAI()"
   ],
   "id": "6c33bcf18e7af1f",
   "outputs": [],
   "execution_count": 3
  },
  {
   "metadata": {
    "ExecuteTime": {
     "end_time": "2024-04-29T23:29:17.737937Z",
     "start_time": "2024-04-29T23:29:17.702030Z"
    }
   },
   "cell_type": "code",
   "source": [
    "llm=ChatOpenAI()\n",
    "prompt=ChatPromptTemplate.from_messages([\n",
    "    (\"system\", \"Respond conversationally to the given input, in whatever language it is given in\"),\n",
    "    (\"user\", \"{input}\")\n",
    "])\n",
    "output_parser=StrOutputParser()\n",
    "chain=prompt|llm|output_parser"
   ],
   "id": "5461c867697bdb8a",
   "outputs": [],
   "execution_count": 4
  },
  {
   "metadata": {
    "ExecuteTime": {
     "end_time": "2024-04-29T23:29:18.936422Z",
     "start_time": "2024-04-29T23:29:17.739073Z"
    }
   },
   "cell_type": "code",
   "source": [
    "device=\"cuda:0\" if torch.cuda.is_available() else \"cpu\"\n",
    "torch_dtype=torch.float16 if torch.cuda.is_available() else torch.float32\n",
    "model_id=\"openai/whisper-base\"\n",
    "openaimodel=AutoModelForSpeechSeq2Seq.from_pretrained(\n",
    "    model_id,torch_dtype=torch_dtype,\n",
    "    use_safetensors=True\n",
    ")\n",
    "openaimodel.to(device)\n",
    "processor=AutoProcessor.from_pretrained(model_id)\n",
    "pipe=pipeline(\n",
    "    \"automatic-speech-recognition\",\n",
    "    model=openaimodel,\n",
    "    tokenizer=processor.tokenizer,\n",
    "    feature_extractor=processor.feature_extractor,\n",
    "    max_new_tokens=128,\n",
    "    chunk_length_s=30,\n",
    "    batch_size=16,\n",
    "    return_timestamps=True,\n",
    "    torch_dtype=torch_dtype,\n",
    "    device=device,\n",
    ")"
   ],
   "id": "456adc265a578d6",
   "outputs": [
    {
     "name": "stderr",
     "output_type": "stream",
     "text": [
      "Special tokens have been added in the vocabulary, make sure the associated word embeddings are fine-tuned or trained.\n"
     ]
    }
   ],
   "execution_count": 5
  },
  {
   "metadata": {
    "ExecuteTime": {
     "end_time": "2024-04-29T23:29:18.943377Z",
     "start_time": "2024-04-29T23:29:18.938713Z"
    }
   },
   "cell_type": "code",
   "source": "genai.configure(api_key=GOOGLE_API_KEY)",
   "id": "e2499cea29579743",
   "outputs": [],
   "execution_count": 6
  },
  {
   "metadata": {
    "ExecuteTime": {
     "end_time": "2024-04-29T23:29:18.948052Z",
     "start_time": "2024-04-29T23:29:18.945863Z"
    }
   },
   "cell_type": "code",
   "source": "os.environ[\"GOOGLE_APPLICATION_CREDENTIALS\"] = os.getenv(\"TRANSLATION_CREDENTIALS_PATH\")",
   "id": "6d71c4715390004f",
   "outputs": [],
   "execution_count": 7
  },
  {
   "metadata": {
    "ExecuteTime": {
     "end_time": "2024-04-29T23:29:18.951503Z",
     "start_time": "2024-04-29T23:29:18.949337Z"
    }
   },
   "cell_type": "code",
   "source": "english='en'",
   "id": "a8ae90ace3a850b",
   "outputs": [],
   "execution_count": 8
  },
  {
   "metadata": {
    "ExecuteTime": {
     "end_time": "2024-04-29T23:29:19.872306Z",
     "start_time": "2024-04-29T23:29:19.869745Z"
    }
   },
   "cell_type": "code",
   "source": "model = genai.GenerativeModel('gemini-pro')",
   "id": "8e1fbf2285fc63ce",
   "outputs": [],
   "execution_count": 10
  },
  {
   "metadata": {
    "ExecuteTime": {
     "end_time": "2024-04-29T23:29:20.674481Z",
     "start_time": "2024-04-29T23:29:20.668559Z"
    }
   },
   "cell_type": "code",
   "source": [
    "def record_audio(filename,duration=5,fs=44100):\n",
    "    print('recording...')\n",
    "    recording=sd.rec(int(duration*fs),samplerate=fs,channels=1)\n",
    "    sd.wait()\n",
    "    write(filename,fs,recording)\n",
    "    result=pipe(filename,generate_kwargs={'language':lang})\n",
    "    return result['text']"
   ],
   "id": "2e36ea4489cde5a6",
   "outputs": [],
   "execution_count": 11
  },
  {
   "metadata": {
    "ExecuteTime": {
     "end_time": "2024-04-29T23:29:21.366562Z",
     "start_time": "2024-04-29T23:29:21.360697Z"
    }
   },
   "cell_type": "code",
   "source": [
    "def play_audio(file):\n",
    "    sound=pygame.mixer.Sound(file)\n",
    "    recordlength=int(sound.get_length()*1000)\n",
    "    sound.play()\n",
    "    pygame.time.wait(recordlength)"
   ],
   "id": "867a7ca8d3aad330",
   "outputs": [],
   "execution_count": 12
  },
  {
   "metadata": {
    "ExecuteTime": {
     "end_time": "2024-04-29T23:29:21.921518Z",
     "start_time": "2024-04-29T23:29:21.917184Z"
    }
   },
   "cell_type": "code",
   "source": [
    "def make_speech_file(speech_file_path,text):\n",
    "    googclient = texttospeech.TextToSpeechClient()\n",
    "    synthesis_input = texttospeech.SynthesisInput(text=text)\n",
    "    voice=texttospeech.VoiceSelectionParams(\n",
    "        language_code=lang, ssml_gender=texttospeech.SsmlVoiceGender.NEUTRAL\n",
    "    )\n",
    "    audio_config = texttospeech.AudioConfig(\n",
    "        audio_encoding=texttospeech.AudioEncoding.MP3\n",
    "    )\n",
    "    response = googclient.synthesize_speech(\n",
    "        input=synthesis_input, voice=voice, audio_config=audio_config\n",
    "    )\n",
    "    with open(speech_file_path, \"wb\") as out:\n",
    "        out.write(response.audio_content)\n",
    "        print('Audio content written to file \"output.mp3\"')"
   ],
   "id": "f9c45239d853c741",
   "outputs": [],
   "execution_count": 13
  },
  {
   "metadata": {
    "ExecuteTime": {
     "end_time": "2024-04-29T23:29:22.579588Z",
     "start_time": "2024-04-29T23:29:22.565036Z"
    }
   },
   "cell_type": "code",
   "source": [
    "def translate_to(lang,text):\n",
    "    transclient=translate.Client()\n",
    "    if isinstance(text,bytes):\n",
    "        text=text.decode('utf-8')\n",
    "    result=transclient.translate(text,target_language=lang)\n",
    "    return result['translatedText']"
   ],
   "id": "f7b7fc6d3376440a",
   "outputs": [],
   "execution_count": 14
  },
  {
   "metadata": {
    "ExecuteTime": {
     "end_time": "2024-04-29T23:29:23.235332Z",
     "start_time": "2024-04-29T23:29:23.230206Z"
    }
   },
   "cell_type": "code",
   "source": [
    "def generate_response(input_text):\n",
    "    prompt='Pretend you are a human in a conversation and respond to the following: '+input_text\n",
    "    generation=model.generate_content(prompt).text\n",
    "    #print(generation)\n",
    "    return generation"
   ],
   "id": "815bc8a8cb83a70",
   "outputs": [],
   "execution_count": 15
  },
  {
   "metadata": {
    "ExecuteTime": {
     "end_time": "2024-04-29T23:29:23.939752Z",
     "start_time": "2024-04-29T23:29:23.933341Z"
    }
   },
   "cell_type": "code",
   "source": [
    "def machine_turn(text):\n",
    "    machine_file='recordings/machine.wav'\n",
    "    if text=='':\n",
    "        eng='Hello, how are you today?'\n",
    "        talk=translate_to(lang,eng)\n",
    "    else:\n",
    "        talk=generate_response(text)\n",
    "    make_speech_file(machine_file,talk)\n",
    "    eng=translate_to(english,machine_file)\n",
    "    play_audio(machine_file)\n",
    "    print('Computer: '+talk+' ('+eng+')')"
   ],
   "id": "45ed3a93bb960256",
   "outputs": [],
   "execution_count": 16
  },
  {
   "metadata": {
    "ExecuteTime": {
     "end_time": "2024-04-29T23:29:24.524851Z",
     "start_time": "2024-04-29T23:29:24.520363Z"
    }
   },
   "cell_type": "code",
   "source": [
    "def human_turn():\n",
    "    file='recordings/human.wav'\n",
    "    talk=record_audio(file)\n",
    "    eng=translate_to(english,file)\n",
    "    print('Me: '+talk+' ('+eng+')')\n",
    "    return talk"
   ],
   "id": "c96ff1d616a499ee",
   "outputs": [],
   "execution_count": 17
  },
  {
   "metadata": {
    "ExecuteTime": {
     "end_time": "2024-04-29T23:29:25.166585Z",
     "start_time": "2024-04-29T23:29:25.163498Z"
    }
   },
   "cell_type": "code",
   "source": [
    "def conversation():\n",
    "    human_response=''\n",
    "    x=0\n",
    "    while x!=5:\n",
    "        machine_turn(human_response)\n",
    "        human_response=human_turn()\n",
    "        x+=1"
   ],
   "id": "365fb73a8de161c9",
   "outputs": [],
   "execution_count": 18
  },
  {
   "metadata": {
    "ExecuteTime": {
     "end_time": "2024-04-29T23:29:26.768946Z",
     "start_time": "2024-04-29T23:29:26.765073Z"
    }
   },
   "cell_type": "code",
   "source": "lang='es'",
   "id": "9ac6efe0a8af5751",
   "outputs": [],
   "execution_count": 19
  },
  {
   "metadata": {
    "ExecuteTime": {
     "end_time": "2024-04-29T23:29:45.206877Z",
     "start_time": "2024-04-29T23:29:44.985389Z"
    }
   },
   "cell_type": "code",
   "source": "pygame.init()",
   "id": "ebae1a6e11b97763",
   "outputs": [
    {
     "data": {
      "text/plain": [
       "(5, 0)"
      ]
     },
     "execution_count": 20,
     "metadata": {},
     "output_type": "execute_result"
    }
   ],
   "execution_count": 20
  },
  {
   "metadata": {
    "ExecuteTime": {
     "end_time": "2024-04-29T23:30:13.192948Z",
     "start_time": "2024-04-29T23:29:56.263622Z"
    }
   },
   "cell_type": "code",
   "source": "conversation()",
   "id": "c55411b38767e5ab",
   "outputs": [
    {
     "name": "stdout",
     "output_type": "stream",
     "text": [
      "Audio content written to file \"output.mp3\"\n",
      "Computer: ¿Hola, cómo estás hoy? (recordings/machine.wav)\n",
      "recording...\n",
      "Me:  Esto es bien, y tú. (recordings/human.wav)\n",
      "Audio content written to file \"output.mp3\"\n",
      "Computer: Esto es bueno para mí, ¿qué tal para ti? (recordings/machine.wav)\n",
      "recording...\n"
     ]
    },
    {
     "ename": "KeyboardInterrupt",
     "evalue": "",
     "output_type": "error",
     "traceback": [
      "\u001B[0;31m---------------------------------------------------------------------------\u001B[0m",
      "\u001B[0;31mKeyboardInterrupt\u001B[0m                         Traceback (most recent call last)",
      "Cell \u001B[0;32mIn[21], line 1\u001B[0m\n\u001B[0;32m----> 1\u001B[0m \u001B[43mconversation\u001B[49m\u001B[43m(\u001B[49m\u001B[43m)\u001B[49m\n",
      "Cell \u001B[0;32mIn[18], line 6\u001B[0m, in \u001B[0;36mconversation\u001B[0;34m()\u001B[0m\n\u001B[1;32m      4\u001B[0m \u001B[38;5;28;01mwhile\u001B[39;00m x\u001B[38;5;241m!=\u001B[39m\u001B[38;5;241m5\u001B[39m:\n\u001B[1;32m      5\u001B[0m     machine_turn(human_response)\n\u001B[0;32m----> 6\u001B[0m     human_response\u001B[38;5;241m=\u001B[39m\u001B[43mhuman_turn\u001B[49m\u001B[43m(\u001B[49m\u001B[43m)\u001B[49m\n\u001B[1;32m      7\u001B[0m     x\u001B[38;5;241m+\u001B[39m\u001B[38;5;241m=\u001B[39m\u001B[38;5;241m1\u001B[39m\n",
      "Cell \u001B[0;32mIn[17], line 3\u001B[0m, in \u001B[0;36mhuman_turn\u001B[0;34m()\u001B[0m\n\u001B[1;32m      1\u001B[0m \u001B[38;5;28;01mdef\u001B[39;00m \u001B[38;5;21mhuman_turn\u001B[39m():\n\u001B[1;32m      2\u001B[0m     file\u001B[38;5;241m=\u001B[39m\u001B[38;5;124m'\u001B[39m\u001B[38;5;124mrecordings/human.wav\u001B[39m\u001B[38;5;124m'\u001B[39m\n\u001B[0;32m----> 3\u001B[0m     talk\u001B[38;5;241m=\u001B[39m\u001B[43mrecord_audio\u001B[49m\u001B[43m(\u001B[49m\u001B[43mfile\u001B[49m\u001B[43m)\u001B[49m\n\u001B[1;32m      4\u001B[0m     eng\u001B[38;5;241m=\u001B[39mtranslate_to(english,file)\n\u001B[1;32m      5\u001B[0m     \u001B[38;5;28mprint\u001B[39m(\u001B[38;5;124m'\u001B[39m\u001B[38;5;124mMe: \u001B[39m\u001B[38;5;124m'\u001B[39m\u001B[38;5;241m+\u001B[39mtalk\u001B[38;5;241m+\u001B[39m\u001B[38;5;124m'\u001B[39m\u001B[38;5;124m (\u001B[39m\u001B[38;5;124m'\u001B[39m\u001B[38;5;241m+\u001B[39meng\u001B[38;5;241m+\u001B[39m\u001B[38;5;124m'\u001B[39m\u001B[38;5;124m)\u001B[39m\u001B[38;5;124m'\u001B[39m)\n",
      "Cell \u001B[0;32mIn[11], line 4\u001B[0m, in \u001B[0;36mrecord_audio\u001B[0;34m(filename, duration, fs)\u001B[0m\n\u001B[1;32m      2\u001B[0m \u001B[38;5;28mprint\u001B[39m(\u001B[38;5;124m'\u001B[39m\u001B[38;5;124mrecording...\u001B[39m\u001B[38;5;124m'\u001B[39m)\n\u001B[1;32m      3\u001B[0m recording\u001B[38;5;241m=\u001B[39msd\u001B[38;5;241m.\u001B[39mrec(\u001B[38;5;28mint\u001B[39m(duration\u001B[38;5;241m*\u001B[39mfs),samplerate\u001B[38;5;241m=\u001B[39mfs,channels\u001B[38;5;241m=\u001B[39m\u001B[38;5;241m1\u001B[39m)\n\u001B[0;32m----> 4\u001B[0m \u001B[43msd\u001B[49m\u001B[38;5;241;43m.\u001B[39;49m\u001B[43mwait\u001B[49m\u001B[43m(\u001B[49m\u001B[43m)\u001B[49m\n\u001B[1;32m      5\u001B[0m write(filename,fs,recording)\n\u001B[1;32m      6\u001B[0m result\u001B[38;5;241m=\u001B[39mpipe(filename,generate_kwargs\u001B[38;5;241m=\u001B[39m{\u001B[38;5;124m'\u001B[39m\u001B[38;5;124mlanguage\u001B[39m\u001B[38;5;124m'\u001B[39m:lang})\n",
      "File \u001B[0;32m~/PycharmProjects/Gemini-API/venv/lib/python3.11/site-packages/sounddevice.py:395\u001B[0m, in \u001B[0;36mwait\u001B[0;34m(ignore_errors)\u001B[0m\n\u001B[1;32m    379\u001B[0m \u001B[38;5;250m\u001B[39m\u001B[38;5;124;03m\"\"\"Wait for `play()`/`rec()`/`playrec()` to be finished.\u001B[39;00m\n\u001B[1;32m    380\u001B[0m \n\u001B[1;32m    381\u001B[0m \u001B[38;5;124;03mPlayback/recording can be stopped with a `KeyboardInterrupt`.\u001B[39;00m\n\u001B[0;32m   (...)\u001B[0m\n\u001B[1;32m    392\u001B[0m \n\u001B[1;32m    393\u001B[0m \u001B[38;5;124;03m\"\"\"\u001B[39;00m\n\u001B[1;32m    394\u001B[0m \u001B[38;5;28;01mif\u001B[39;00m _last_callback:\n\u001B[0;32m--> 395\u001B[0m     \u001B[38;5;28;01mreturn\u001B[39;00m \u001B[43m_last_callback\u001B[49m\u001B[38;5;241;43m.\u001B[39;49m\u001B[43mwait\u001B[49m\u001B[43m(\u001B[49m\u001B[43mignore_errors\u001B[49m\u001B[43m)\u001B[49m\n",
      "File \u001B[0;32m~/PycharmProjects/Gemini-API/venv/lib/python3.11/site-packages/sounddevice.py:2601\u001B[0m, in \u001B[0;36m_CallbackContext.wait\u001B[0;34m(self, ignore_errors)\u001B[0m\n\u001B[1;32m   2595\u001B[0m \u001B[38;5;250m\u001B[39m\u001B[38;5;124;03m\"\"\"Wait for finished_callback.\u001B[39;00m\n\u001B[1;32m   2596\u001B[0m \n\u001B[1;32m   2597\u001B[0m \u001B[38;5;124;03mCan be interrupted with a KeyboardInterrupt.\u001B[39;00m\n\u001B[1;32m   2598\u001B[0m \n\u001B[1;32m   2599\u001B[0m \u001B[38;5;124;03m\"\"\"\u001B[39;00m\n\u001B[1;32m   2600\u001B[0m \u001B[38;5;28;01mtry\u001B[39;00m:\n\u001B[0;32m-> 2601\u001B[0m     \u001B[38;5;28;43mself\u001B[39;49m\u001B[38;5;241;43m.\u001B[39;49m\u001B[43mevent\u001B[49m\u001B[38;5;241;43m.\u001B[39;49m\u001B[43mwait\u001B[49m\u001B[43m(\u001B[49m\u001B[43m)\u001B[49m\n\u001B[1;32m   2602\u001B[0m \u001B[38;5;28;01mfinally\u001B[39;00m:\n\u001B[1;32m   2603\u001B[0m     \u001B[38;5;28mself\u001B[39m\u001B[38;5;241m.\u001B[39mstream\u001B[38;5;241m.\u001B[39mclose(ignore_errors)\n",
      "File \u001B[0;32m/Library/Frameworks/Python.framework/Versions/3.11/lib/python3.11/threading.py:629\u001B[0m, in \u001B[0;36mEvent.wait\u001B[0;34m(self, timeout)\u001B[0m\n\u001B[1;32m    627\u001B[0m signaled \u001B[38;5;241m=\u001B[39m \u001B[38;5;28mself\u001B[39m\u001B[38;5;241m.\u001B[39m_flag\n\u001B[1;32m    628\u001B[0m \u001B[38;5;28;01mif\u001B[39;00m \u001B[38;5;129;01mnot\u001B[39;00m signaled:\n\u001B[0;32m--> 629\u001B[0m     signaled \u001B[38;5;241m=\u001B[39m \u001B[38;5;28;43mself\u001B[39;49m\u001B[38;5;241;43m.\u001B[39;49m\u001B[43m_cond\u001B[49m\u001B[38;5;241;43m.\u001B[39;49m\u001B[43mwait\u001B[49m\u001B[43m(\u001B[49m\u001B[43mtimeout\u001B[49m\u001B[43m)\u001B[49m\n\u001B[1;32m    630\u001B[0m \u001B[38;5;28;01mreturn\u001B[39;00m signaled\n",
      "File \u001B[0;32m/Library/Frameworks/Python.framework/Versions/3.11/lib/python3.11/threading.py:327\u001B[0m, in \u001B[0;36mCondition.wait\u001B[0;34m(self, timeout)\u001B[0m\n\u001B[1;32m    325\u001B[0m \u001B[38;5;28;01mtry\u001B[39;00m:    \u001B[38;5;66;03m# restore state no matter what (e.g., KeyboardInterrupt)\u001B[39;00m\n\u001B[1;32m    326\u001B[0m     \u001B[38;5;28;01mif\u001B[39;00m timeout \u001B[38;5;129;01mis\u001B[39;00m \u001B[38;5;28;01mNone\u001B[39;00m:\n\u001B[0;32m--> 327\u001B[0m         \u001B[43mwaiter\u001B[49m\u001B[38;5;241;43m.\u001B[39;49m\u001B[43macquire\u001B[49m\u001B[43m(\u001B[49m\u001B[43m)\u001B[49m\n\u001B[1;32m    328\u001B[0m         gotit \u001B[38;5;241m=\u001B[39m \u001B[38;5;28;01mTrue\u001B[39;00m\n\u001B[1;32m    329\u001B[0m     \u001B[38;5;28;01melse\u001B[39;00m:\n",
      "\u001B[0;31mKeyboardInterrupt\u001B[0m: "
     ]
    }
   ],
   "execution_count": 21
  },
  {
   "metadata": {
    "ExecuteTime": {
     "end_time": "2024-04-29T23:30:22.524160Z",
     "start_time": "2024-04-29T23:30:22.414932Z"
    }
   },
   "cell_type": "code",
   "source": "pygame.quit()",
   "id": "988e3e63d4d91294",
   "outputs": [],
   "execution_count": 22
  },
  {
   "metadata": {
    "jupyter": {
     "is_executing": true
    }
   },
   "cell_type": "code",
   "source": "",
   "id": "4e30ae438d9d606c",
   "outputs": [],
   "execution_count": null
  }
 ],
 "metadata": {
  "kernelspec": {
   "display_name": "Python 3",
   "language": "python",
   "name": "python3"
  },
  "language_info": {
   "codemirror_mode": {
    "name": "ipython",
    "version": 2
   },
   "file_extension": ".py",
   "mimetype": "text/x-python",
   "name": "python",
   "nbconvert_exporter": "python",
   "pygments_lexer": "ipython2",
   "version": "2.7.6"
  }
 },
 "nbformat": 4,
 "nbformat_minor": 5
}
