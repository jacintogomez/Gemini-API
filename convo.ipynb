{
 "cells": [
  {
   "cell_type": "code",
   "id": "initial_id",
   "metadata": {
    "collapsed": true
   },
   "source": [
    "import google.generativeai as genai\n",
    "from google.cloud import translate_v2 as translate\n",
    "from google.cloud import texttospeech\n",
    "import speech_recognition as sr\n",
    "\n",
    "import pygame"
   ],
   "outputs": [],
   "execution_count": null
  },
  {
   "metadata": {},
   "cell_type": "code",
   "source": [
    "import torch\n",
    "import sounddevice as sd"
   ],
   "id": "8f0eb6ba2fff7192",
   "outputs": [],
   "execution_count": null
  },
  {
   "metadata": {},
   "cell_type": "code",
   "source": [
    "from dotenv import load_dotenv\n",
    "import os\n",
    "load_dotenv()\n",
    "GOOGLE_API_KEY=os.getenv(\"GOOGLE_API_KEY\")"
   ],
   "id": "6c33bcf18e7af1f",
   "outputs": [],
   "execution_count": null
  },
  {
   "metadata": {},
   "cell_type": "code",
   "source": "genai.configure(api_key=GOOGLE_API_KEY)",
   "id": "e2499cea29579743",
   "outputs": [],
   "execution_count": null
  },
  {
   "metadata": {},
   "cell_type": "code",
   "source": "english='en'",
   "id": "a8ae90ace3a850b",
   "outputs": [],
   "execution_count": null
  },
  {
   "metadata": {},
   "cell_type": "code",
   "source": "model = genai.GenerativeModel('gemini-pro')",
   "id": "8e1fbf2285fc63ce",
   "outputs": [],
   "execution_count": null
  },
  {
   "metadata": {},
   "cell_type": "code",
   "source": [
    "def record_audio(file):\n",
    "    r = sr.Recognizer()\n",
    "    with sr.AudioFile(file) as source:\n",
    "        audio = r.record(source)\n",
    "    try:\n",
    "        print(\"Sphinx thinks you said \" + r.recognize_sphinx(audio))\n",
    "    except sr.UnknownValueError:\n",
    "        print(\"Sphinx could not understand audio\")\n",
    "    except sr.RequestError as e:\n",
    "        print(\"Sphinx error; {0}\".format(e))\n",
    "    return r.recognize_sphinx(audio)"
   ],
   "id": "2e36ea4489cde5a6",
   "outputs": [],
   "execution_count": null
  },
  {
   "metadata": {},
   "cell_type": "code",
   "source": [
    "def play_audio(file):\n",
    "    sound=pygame.mixer.Sound(file)\n",
    "    recordlength=int(sound.get_length()*1000)\n",
    "    sound.play()\n",
    "    pygame.time.wait(recordlength)"
   ],
   "id": "867a7ca8d3aad330",
   "outputs": [],
   "execution_count": null
  },
  {
   "metadata": {},
   "cell_type": "code",
   "source": [
    "def make_speech_file(speech_file_path,text):\n",
    "    googclient = texttospeech.TextToSpeechClient()\n",
    "    synthesis_input = texttospeech.SynthesisInput(text=text)\n",
    "    voice=texttospeech.VoiceSelectionParams(\n",
    "        language_code=lang, ssml_gender=texttospeech.SsmlVoiceGender.NEUTRAL\n",
    "    )\n",
    "    audio_config = texttospeech.AudioConfig(\n",
    "        audio_encoding=texttospeech.AudioEncoding.MP3\n",
    "    )\n",
    "    response = googclient.synthesize_speech(\n",
    "        input=synthesis_input, voice=voice, audio_config=audio_config\n",
    "    )\n",
    "    with open(speech_file_path, \"wb\") as out:\n",
    "        out.write(response.audio_content)\n",
    "        print('Audio content written to file \"output.mp3\"')"
   ],
   "id": "f9c45239d853c741",
   "outputs": [],
   "execution_count": null
  },
  {
   "metadata": {},
   "cell_type": "code",
   "source": [
    "def translate_to(lang,text):\n",
    "    transclient=translate.Client()\n",
    "    if isinstance(text,bytes):\n",
    "        text=text.decode('utf-8')\n",
    "    result=transclient.translate(text,target_language=lang)\n",
    "    return result['translatedText']"
   ],
   "id": "f7b7fc6d3376440a",
   "outputs": [],
   "execution_count": null
  },
  {
   "metadata": {},
   "cell_type": "code",
   "source": [
    "def generate_response(input_text):\n",
    "    prompt='Please respond logically to the following sentence in a conversation: '+input_text\n",
    "    generation=model.generate_content(prompt).text\n",
    "    #print(generation)\n",
    "    return generation"
   ],
   "id": "815bc8a8cb83a70",
   "outputs": [],
   "execution_count": null
  },
  {
   "metadata": {},
   "cell_type": "code",
   "source": [
    "def machine_turn(text):\n",
    "    machine_file='recordings/machine.wav'\n",
    "    if text=='':\n",
    "        eng='Hello, how are you today?'\n",
    "        talk=translate_to(lang,eng)\n",
    "    else:\n",
    "        talk=generate_response(text)\n",
    "    make_speech_file(machine_file,talk)\n",
    "    eng=translate_to(english,machine_file)\n",
    "    play_audio(machine_file)\n",
    "    print('Computer: '+talk+' ('+eng+')')"
   ],
   "id": "45ed3a93bb960256",
   "outputs": [],
   "execution_count": null
  },
  {
   "metadata": {},
   "cell_type": "code",
   "source": [
    "def human_turn():\n",
    "    file='recordings/human.wav'\n",
    "    talk=record_audio(file)\n",
    "    eng=translate_to(english,file)\n",
    "    print('Me: '+talk+' ('+eng+')')\n",
    "    return talk"
   ],
   "id": "c96ff1d616a499ee",
   "outputs": [],
   "execution_count": null
  },
  {
   "metadata": {},
   "cell_type": "code",
   "source": [
    "def conversation():\n",
    "    human_response=''\n",
    "    x=0\n",
    "    while x!=5:\n",
    "        machine_turn(human_response)\n",
    "        human_response=human_turn()\n",
    "        x+=1"
   ],
   "id": "365fb73a8de161c9",
   "outputs": [],
   "execution_count": null
  },
  {
   "metadata": {},
   "cell_type": "code",
   "source": "lang='en'",
   "id": "d5de154b2d74557c",
   "outputs": [],
   "execution_count": null
  },
  {
   "metadata": {},
   "cell_type": "code",
   "source": "pygame.init()",
   "id": "8cecb115a74513c9",
   "outputs": [],
   "execution_count": null
  },
  {
   "metadata": {
    "ExecuteTime": {
     "end_time": "2024-04-28T04:57:12.628502Z",
     "start_time": "2024-04-28T04:57:09.032114Z"
    }
   },
   "cell_type": "code",
   "source": "conversation()",
   "id": "c55411b38767e5ab",
   "outputs": [
    {
     "name": "stdout",
     "output_type": "stream",
     "text": [
      "Audio content written to file \"output.mp3\"\n",
      "Computer: Hello, how are you today? (recordings/machine.wav)\n"
     ]
    },
    {
     "ename": "ValueError",
     "evalue": "Audio file could not be read as PCM WAV, AIFF/AIFF-C, or Native FLAC; check if file is corrupted or in another format",
     "output_type": "error",
     "traceback": [
      "\u001B[0;31m---------------------------------------------------------------------------\u001B[0m",
      "\u001B[0;31mError\u001B[0m                                     Traceback (most recent call last)",
      "File \u001B[0;32m~/PycharmProjects/Gemini-API/venv/lib/python3.11/site-packages/speech_recognition/__init__.py:241\u001B[0m, in \u001B[0;36mAudioFile.__enter__\u001B[0;34m(self)\u001B[0m\n\u001B[1;32m    239\u001B[0m \u001B[38;5;28;01mtry\u001B[39;00m:\n\u001B[1;32m    240\u001B[0m     \u001B[38;5;66;03m# attempt to read the file as WAV\u001B[39;00m\n\u001B[0;32m--> 241\u001B[0m     \u001B[38;5;28mself\u001B[39m\u001B[38;5;241m.\u001B[39maudio_reader \u001B[38;5;241m=\u001B[39m \u001B[43mwave\u001B[49m\u001B[38;5;241;43m.\u001B[39;49m\u001B[43mopen\u001B[49m\u001B[43m(\u001B[49m\u001B[38;5;28;43mself\u001B[39;49m\u001B[38;5;241;43m.\u001B[39;49m\u001B[43mfilename_or_fileobject\u001B[49m\u001B[43m,\u001B[49m\u001B[43m \u001B[49m\u001B[38;5;124;43m\"\u001B[39;49m\u001B[38;5;124;43mrb\u001B[39;49m\u001B[38;5;124;43m\"\u001B[39;49m\u001B[43m)\u001B[49m\n\u001B[1;32m    242\u001B[0m     \u001B[38;5;28mself\u001B[39m\u001B[38;5;241m.\u001B[39mlittle_endian \u001B[38;5;241m=\u001B[39m \u001B[38;5;28;01mTrue\u001B[39;00m  \u001B[38;5;66;03m# RIFF WAV is a little-endian format (most ``audioop`` operations assume that the frames are stored in little-endian form)\u001B[39;00m\n",
      "File \u001B[0;32m/Library/Frameworks/Python.framework/Versions/3.11/lib/python3.11/wave.py:631\u001B[0m, in \u001B[0;36mopen\u001B[0;34m(f, mode)\u001B[0m\n\u001B[1;32m    630\u001B[0m \u001B[38;5;28;01mif\u001B[39;00m mode \u001B[38;5;129;01min\u001B[39;00m (\u001B[38;5;124m'\u001B[39m\u001B[38;5;124mr\u001B[39m\u001B[38;5;124m'\u001B[39m, \u001B[38;5;124m'\u001B[39m\u001B[38;5;124mrb\u001B[39m\u001B[38;5;124m'\u001B[39m):\n\u001B[0;32m--> 631\u001B[0m     \u001B[38;5;28;01mreturn\u001B[39;00m \u001B[43mWave_read\u001B[49m\u001B[43m(\u001B[49m\u001B[43mf\u001B[49m\u001B[43m)\u001B[49m\n\u001B[1;32m    632\u001B[0m \u001B[38;5;28;01melif\u001B[39;00m mode \u001B[38;5;129;01min\u001B[39;00m (\u001B[38;5;124m'\u001B[39m\u001B[38;5;124mw\u001B[39m\u001B[38;5;124m'\u001B[39m, \u001B[38;5;124m'\u001B[39m\u001B[38;5;124mwb\u001B[39m\u001B[38;5;124m'\u001B[39m):\n",
      "File \u001B[0;32m/Library/Frameworks/Python.framework/Versions/3.11/lib/python3.11/wave.py:283\u001B[0m, in \u001B[0;36mWave_read.__init__\u001B[0;34m(self, f)\u001B[0m\n\u001B[1;32m    282\u001B[0m \u001B[38;5;28;01mtry\u001B[39;00m:\n\u001B[0;32m--> 283\u001B[0m     \u001B[38;5;28;43mself\u001B[39;49m\u001B[38;5;241;43m.\u001B[39;49m\u001B[43minitfp\u001B[49m\u001B[43m(\u001B[49m\u001B[43mf\u001B[49m\u001B[43m)\u001B[49m\n\u001B[1;32m    284\u001B[0m \u001B[38;5;28;01mexcept\u001B[39;00m:\n",
      "File \u001B[0;32m/Library/Frameworks/Python.framework/Versions/3.11/lib/python3.11/wave.py:263\u001B[0m, in \u001B[0;36mWave_read.initfp\u001B[0;34m(self, file)\u001B[0m\n\u001B[1;32m    262\u001B[0m \u001B[38;5;28;01mif\u001B[39;00m chunkname \u001B[38;5;241m==\u001B[39m \u001B[38;5;124mb\u001B[39m\u001B[38;5;124m'\u001B[39m\u001B[38;5;124mfmt \u001B[39m\u001B[38;5;124m'\u001B[39m:\n\u001B[0;32m--> 263\u001B[0m     \u001B[38;5;28;43mself\u001B[39;49m\u001B[38;5;241;43m.\u001B[39;49m\u001B[43m_read_fmt_chunk\u001B[49m\u001B[43m(\u001B[49m\u001B[43mchunk\u001B[49m\u001B[43m)\u001B[49m\n\u001B[1;32m    264\u001B[0m     \u001B[38;5;28mself\u001B[39m\u001B[38;5;241m.\u001B[39m_fmt_chunk_read \u001B[38;5;241m=\u001B[39m \u001B[38;5;241m1\u001B[39m\n",
      "File \u001B[0;32m/Library/Frameworks/Python.framework/Versions/3.11/lib/python3.11/wave.py:388\u001B[0m, in \u001B[0;36mWave_read._read_fmt_chunk\u001B[0;34m(self, chunk)\u001B[0m\n\u001B[1;32m    387\u001B[0m \u001B[38;5;28;01melse\u001B[39;00m:\n\u001B[0;32m--> 388\u001B[0m     \u001B[38;5;28;01mraise\u001B[39;00m Error(\u001B[38;5;124m'\u001B[39m\u001B[38;5;124munknown format: \u001B[39m\u001B[38;5;132;01m%r\u001B[39;00m\u001B[38;5;124m'\u001B[39m \u001B[38;5;241m%\u001B[39m (wFormatTag,))\n\u001B[1;32m    389\u001B[0m \u001B[38;5;28;01mif\u001B[39;00m \u001B[38;5;129;01mnot\u001B[39;00m \u001B[38;5;28mself\u001B[39m\u001B[38;5;241m.\u001B[39m_nchannels:\n",
      "\u001B[0;31mError\u001B[0m: unknown format: 3",
      "\nDuring handling of the above exception, another exception occurred:\n",
      "\u001B[0;31mError\u001B[0m                                     Traceback (most recent call last)",
      "File \u001B[0;32m~/PycharmProjects/Gemini-API/venv/lib/python3.11/site-packages/speech_recognition/__init__.py:246\u001B[0m, in \u001B[0;36mAudioFile.__enter__\u001B[0;34m(self)\u001B[0m\n\u001B[1;32m    244\u001B[0m \u001B[38;5;28;01mtry\u001B[39;00m:\n\u001B[1;32m    245\u001B[0m     \u001B[38;5;66;03m# attempt to read the file as AIFF\u001B[39;00m\n\u001B[0;32m--> 246\u001B[0m     \u001B[38;5;28mself\u001B[39m\u001B[38;5;241m.\u001B[39maudio_reader \u001B[38;5;241m=\u001B[39m \u001B[43maifc\u001B[49m\u001B[38;5;241;43m.\u001B[39;49m\u001B[43mopen\u001B[49m\u001B[43m(\u001B[49m\u001B[38;5;28;43mself\u001B[39;49m\u001B[38;5;241;43m.\u001B[39;49m\u001B[43mfilename_or_fileobject\u001B[49m\u001B[43m,\u001B[49m\u001B[43m \u001B[49m\u001B[38;5;124;43m\"\u001B[39;49m\u001B[38;5;124;43mrb\u001B[39;49m\u001B[38;5;124;43m\"\u001B[39;49m\u001B[43m)\u001B[49m\n\u001B[1;32m    247\u001B[0m     \u001B[38;5;28mself\u001B[39m\u001B[38;5;241m.\u001B[39mlittle_endian \u001B[38;5;241m=\u001B[39m \u001B[38;5;28;01mFalse\u001B[39;00m  \u001B[38;5;66;03m# AIFF is a big-endian format\u001B[39;00m\n",
      "File \u001B[0;32m/Library/Frameworks/Python.framework/Versions/3.11/lib/python3.11/aifc.py:954\u001B[0m, in \u001B[0;36mopen\u001B[0;34m(f, mode)\u001B[0m\n\u001B[1;32m    953\u001B[0m \u001B[38;5;28;01mif\u001B[39;00m mode \u001B[38;5;129;01min\u001B[39;00m (\u001B[38;5;124m'\u001B[39m\u001B[38;5;124mr\u001B[39m\u001B[38;5;124m'\u001B[39m, \u001B[38;5;124m'\u001B[39m\u001B[38;5;124mrb\u001B[39m\u001B[38;5;124m'\u001B[39m):\n\u001B[0;32m--> 954\u001B[0m     \u001B[38;5;28;01mreturn\u001B[39;00m \u001B[43mAifc_read\u001B[49m\u001B[43m(\u001B[49m\u001B[43mf\u001B[49m\u001B[43m)\u001B[49m\n\u001B[1;32m    955\u001B[0m \u001B[38;5;28;01melif\u001B[39;00m mode \u001B[38;5;129;01min\u001B[39;00m (\u001B[38;5;124m'\u001B[39m\u001B[38;5;124mw\u001B[39m\u001B[38;5;124m'\u001B[39m, \u001B[38;5;124m'\u001B[39m\u001B[38;5;124mwb\u001B[39m\u001B[38;5;124m'\u001B[39m):\n",
      "File \u001B[0;32m/Library/Frameworks/Python.framework/Versions/3.11/lib/python3.11/aifc.py:358\u001B[0m, in \u001B[0;36mAifc_read.__init__\u001B[0;34m(self, f)\u001B[0m\n\u001B[1;32m    357\u001B[0m \u001B[38;5;28;01mtry\u001B[39;00m:\n\u001B[0;32m--> 358\u001B[0m     \u001B[38;5;28;43mself\u001B[39;49m\u001B[38;5;241;43m.\u001B[39;49m\u001B[43minitfp\u001B[49m\u001B[43m(\u001B[49m\u001B[43mfile_object\u001B[49m\u001B[43m)\u001B[49m\n\u001B[1;32m    359\u001B[0m \u001B[38;5;28;01mexcept\u001B[39;00m:\n",
      "File \u001B[0;32m/Library/Frameworks/Python.framework/Versions/3.11/lib/python3.11/aifc.py:322\u001B[0m, in \u001B[0;36mAifc_read.initfp\u001B[0;34m(self, file)\u001B[0m\n\u001B[1;32m    321\u001B[0m \u001B[38;5;28;01mif\u001B[39;00m chunk\u001B[38;5;241m.\u001B[39mgetname() \u001B[38;5;241m!=\u001B[39m \u001B[38;5;124mb\u001B[39m\u001B[38;5;124m'\u001B[39m\u001B[38;5;124mFORM\u001B[39m\u001B[38;5;124m'\u001B[39m:\n\u001B[0;32m--> 322\u001B[0m     \u001B[38;5;28;01mraise\u001B[39;00m Error(\u001B[38;5;124m'\u001B[39m\u001B[38;5;124mfile does not start with FORM id\u001B[39m\u001B[38;5;124m'\u001B[39m)\n\u001B[1;32m    323\u001B[0m formdata \u001B[38;5;241m=\u001B[39m chunk\u001B[38;5;241m.\u001B[39mread(\u001B[38;5;241m4\u001B[39m)\n",
      "\u001B[0;31mError\u001B[0m: file does not start with FORM id",
      "\nDuring handling of the above exception, another exception occurred:\n",
      "\u001B[0;31mEOFError\u001B[0m                                  Traceback (most recent call last)",
      "File \u001B[0;32m~/PycharmProjects/Gemini-API/venv/lib/python3.11/site-packages/speech_recognition/__init__.py:272\u001B[0m, in \u001B[0;36mAudioFile.__enter__\u001B[0;34m(self)\u001B[0m\n\u001B[1;32m    271\u001B[0m \u001B[38;5;28;01mtry\u001B[39;00m:\n\u001B[0;32m--> 272\u001B[0m     \u001B[38;5;28mself\u001B[39m\u001B[38;5;241m.\u001B[39maudio_reader \u001B[38;5;241m=\u001B[39m \u001B[43maifc\u001B[49m\u001B[38;5;241;43m.\u001B[39;49m\u001B[43mopen\u001B[49m\u001B[43m(\u001B[49m\u001B[43maiff_file\u001B[49m\u001B[43m,\u001B[49m\u001B[43m \u001B[49m\u001B[38;5;124;43m\"\u001B[39;49m\u001B[38;5;124;43mrb\u001B[39;49m\u001B[38;5;124;43m\"\u001B[39;49m\u001B[43m)\u001B[49m\n\u001B[1;32m    273\u001B[0m \u001B[38;5;28;01mexcept\u001B[39;00m (aifc\u001B[38;5;241m.\u001B[39mError, \u001B[38;5;167;01mEOFError\u001B[39;00m):\n",
      "File \u001B[0;32m/Library/Frameworks/Python.framework/Versions/3.11/lib/python3.11/aifc.py:954\u001B[0m, in \u001B[0;36mopen\u001B[0;34m(f, mode)\u001B[0m\n\u001B[1;32m    953\u001B[0m \u001B[38;5;28;01mif\u001B[39;00m mode \u001B[38;5;129;01min\u001B[39;00m (\u001B[38;5;124m'\u001B[39m\u001B[38;5;124mr\u001B[39m\u001B[38;5;124m'\u001B[39m, \u001B[38;5;124m'\u001B[39m\u001B[38;5;124mrb\u001B[39m\u001B[38;5;124m'\u001B[39m):\n\u001B[0;32m--> 954\u001B[0m     \u001B[38;5;28;01mreturn\u001B[39;00m \u001B[43mAifc_read\u001B[49m\u001B[43m(\u001B[49m\u001B[43mf\u001B[49m\u001B[43m)\u001B[49m\n\u001B[1;32m    955\u001B[0m \u001B[38;5;28;01melif\u001B[39;00m mode \u001B[38;5;129;01min\u001B[39;00m (\u001B[38;5;124m'\u001B[39m\u001B[38;5;124mw\u001B[39m\u001B[38;5;124m'\u001B[39m, \u001B[38;5;124m'\u001B[39m\u001B[38;5;124mwb\u001B[39m\u001B[38;5;124m'\u001B[39m):\n",
      "File \u001B[0;32m/Library/Frameworks/Python.framework/Versions/3.11/lib/python3.11/aifc.py:364\u001B[0m, in \u001B[0;36mAifc_read.__init__\u001B[0;34m(self, f)\u001B[0m\n\u001B[1;32m    362\u001B[0m \u001B[38;5;28;01melse\u001B[39;00m:\n\u001B[1;32m    363\u001B[0m     \u001B[38;5;66;03m# assume it is an open file object already\u001B[39;00m\n\u001B[0;32m--> 364\u001B[0m     \u001B[38;5;28;43mself\u001B[39;49m\u001B[38;5;241;43m.\u001B[39;49m\u001B[43minitfp\u001B[49m\u001B[43m(\u001B[49m\u001B[43mf\u001B[49m\u001B[43m)\u001B[49m\n",
      "File \u001B[0;32m/Library/Frameworks/Python.framework/Versions/3.11/lib/python3.11/aifc.py:320\u001B[0m, in \u001B[0;36mAifc_read.initfp\u001B[0;34m(self, file)\u001B[0m\n\u001B[1;32m    319\u001B[0m \u001B[38;5;28mself\u001B[39m\u001B[38;5;241m.\u001B[39m_file \u001B[38;5;241m=\u001B[39m file\n\u001B[0;32m--> 320\u001B[0m chunk \u001B[38;5;241m=\u001B[39m \u001B[43mChunk\u001B[49m\u001B[43m(\u001B[49m\u001B[43mfile\u001B[49m\u001B[43m)\u001B[49m\n\u001B[1;32m    321\u001B[0m \u001B[38;5;28;01mif\u001B[39;00m chunk\u001B[38;5;241m.\u001B[39mgetname() \u001B[38;5;241m!=\u001B[39m \u001B[38;5;124mb\u001B[39m\u001B[38;5;124m'\u001B[39m\u001B[38;5;124mFORM\u001B[39m\u001B[38;5;124m'\u001B[39m:\n",
      "File \u001B[0;32m/Library/Frameworks/Python.framework/Versions/3.11/lib/python3.11/chunk.py:67\u001B[0m, in \u001B[0;36mChunk.__init__\u001B[0;34m(self, file, align, bigendian, inclheader)\u001B[0m\n\u001B[1;32m     66\u001B[0m \u001B[38;5;28;01mif\u001B[39;00m \u001B[38;5;28mlen\u001B[39m(\u001B[38;5;28mself\u001B[39m\u001B[38;5;241m.\u001B[39mchunkname) \u001B[38;5;241m<\u001B[39m \u001B[38;5;241m4\u001B[39m:\n\u001B[0;32m---> 67\u001B[0m     \u001B[38;5;28;01mraise\u001B[39;00m \u001B[38;5;167;01mEOFError\u001B[39;00m\n\u001B[1;32m     68\u001B[0m \u001B[38;5;28;01mtry\u001B[39;00m:\n",
      "\u001B[0;31mEOFError\u001B[0m: ",
      "\nDuring handling of the above exception, another exception occurred:\n",
      "\u001B[0;31mValueError\u001B[0m                                Traceback (most recent call last)",
      "Cell \u001B[0;32mIn[47], line 1\u001B[0m\n\u001B[0;32m----> 1\u001B[0m \u001B[43mconversation\u001B[49m\u001B[43m(\u001B[49m\u001B[43m)\u001B[49m\n",
      "Cell \u001B[0;32mIn[41], line 6\u001B[0m, in \u001B[0;36mconversation\u001B[0;34m()\u001B[0m\n\u001B[1;32m      4\u001B[0m \u001B[38;5;28;01mwhile\u001B[39;00m x\u001B[38;5;241m!=\u001B[39m\u001B[38;5;241m5\u001B[39m:\n\u001B[1;32m      5\u001B[0m     machine_turn(human_response)\n\u001B[0;32m----> 6\u001B[0m     human_response\u001B[38;5;241m=\u001B[39m\u001B[43mhuman_turn\u001B[49m\u001B[43m(\u001B[49m\u001B[43m)\u001B[49m\n\u001B[1;32m      7\u001B[0m     x\u001B[38;5;241m+\u001B[39m\u001B[38;5;241m=\u001B[39m\u001B[38;5;241m1\u001B[39m\n",
      "Cell \u001B[0;32mIn[40], line 3\u001B[0m, in \u001B[0;36mhuman_turn\u001B[0;34m()\u001B[0m\n\u001B[1;32m      1\u001B[0m \u001B[38;5;28;01mdef\u001B[39;00m \u001B[38;5;21mhuman_turn\u001B[39m():\n\u001B[1;32m      2\u001B[0m     file\u001B[38;5;241m=\u001B[39m\u001B[38;5;124m'\u001B[39m\u001B[38;5;124mrecordings/human.wav\u001B[39m\u001B[38;5;124m'\u001B[39m\n\u001B[0;32m----> 3\u001B[0m     talk\u001B[38;5;241m=\u001B[39m\u001B[43mrecord_audio\u001B[49m\u001B[43m(\u001B[49m\u001B[43mfile\u001B[49m\u001B[43m)\u001B[49m\n\u001B[1;32m      4\u001B[0m     eng\u001B[38;5;241m=\u001B[39mtranslate_to(english,file)\n\u001B[1;32m      5\u001B[0m     \u001B[38;5;28mprint\u001B[39m(\u001B[38;5;124m'\u001B[39m\u001B[38;5;124mMe: \u001B[39m\u001B[38;5;124m'\u001B[39m\u001B[38;5;241m+\u001B[39mtalk\u001B[38;5;241m+\u001B[39m\u001B[38;5;124m'\u001B[39m\u001B[38;5;124m (\u001B[39m\u001B[38;5;124m'\u001B[39m\u001B[38;5;241m+\u001B[39meng\u001B[38;5;241m+\u001B[39m\u001B[38;5;124m'\u001B[39m\u001B[38;5;124m)\u001B[39m\u001B[38;5;124m'\u001B[39m)\n",
      "Cell \u001B[0;32mIn[39], line 3\u001B[0m, in \u001B[0;36mrecord_audio\u001B[0;34m(file)\u001B[0m\n\u001B[1;32m      1\u001B[0m \u001B[38;5;28;01mdef\u001B[39;00m \u001B[38;5;21mrecord_audio\u001B[39m(file):\n\u001B[1;32m      2\u001B[0m     r \u001B[38;5;241m=\u001B[39m sr\u001B[38;5;241m.\u001B[39mRecognizer()\n\u001B[0;32m----> 3\u001B[0m \u001B[43m    \u001B[49m\u001B[38;5;28;43;01mwith\u001B[39;49;00m\u001B[43m \u001B[49m\u001B[43msr\u001B[49m\u001B[38;5;241;43m.\u001B[39;49m\u001B[43mAudioFile\u001B[49m\u001B[43m(\u001B[49m\u001B[43mfile\u001B[49m\u001B[43m)\u001B[49m\u001B[43m \u001B[49m\u001B[38;5;28;43;01mas\u001B[39;49;00m\u001B[43m \u001B[49m\u001B[43msource\u001B[49m\u001B[43m:\u001B[49m\n\u001B[1;32m      4\u001B[0m \u001B[43m        \u001B[49m\u001B[43maudio\u001B[49m\u001B[43m \u001B[49m\u001B[38;5;241;43m=\u001B[39;49m\u001B[43m \u001B[49m\u001B[43mr\u001B[49m\u001B[38;5;241;43m.\u001B[39;49m\u001B[43mrecord\u001B[49m\u001B[43m(\u001B[49m\u001B[43msource\u001B[49m\u001B[43m)\u001B[49m\n\u001B[1;32m      5\u001B[0m     \u001B[38;5;28;01mtry\u001B[39;00m:\n",
      "File \u001B[0;32m~/PycharmProjects/Gemini-API/venv/lib/python3.11/site-packages/speech_recognition/__init__.py:274\u001B[0m, in \u001B[0;36mAudioFile.__enter__\u001B[0;34m(self)\u001B[0m\n\u001B[1;32m    272\u001B[0m             \u001B[38;5;28mself\u001B[39m\u001B[38;5;241m.\u001B[39maudio_reader \u001B[38;5;241m=\u001B[39m aifc\u001B[38;5;241m.\u001B[39mopen(aiff_file, \u001B[38;5;124m\"\u001B[39m\u001B[38;5;124mrb\u001B[39m\u001B[38;5;124m\"\u001B[39m)\n\u001B[1;32m    273\u001B[0m         \u001B[38;5;28;01mexcept\u001B[39;00m (aifc\u001B[38;5;241m.\u001B[39mError, \u001B[38;5;167;01mEOFError\u001B[39;00m):\n\u001B[0;32m--> 274\u001B[0m             \u001B[38;5;28;01mraise\u001B[39;00m \u001B[38;5;167;01mValueError\u001B[39;00m(\u001B[38;5;124m\"\u001B[39m\u001B[38;5;124mAudio file could not be read as PCM WAV, AIFF/AIFF-C, or Native FLAC; check if file is corrupted or in another format\u001B[39m\u001B[38;5;124m\"\u001B[39m)\n\u001B[1;32m    275\u001B[0m         \u001B[38;5;28mself\u001B[39m\u001B[38;5;241m.\u001B[39mlittle_endian \u001B[38;5;241m=\u001B[39m \u001B[38;5;28;01mFalse\u001B[39;00m  \u001B[38;5;66;03m# AIFF is a big-endian format\u001B[39;00m\n\u001B[1;32m    276\u001B[0m \u001B[38;5;28;01massert\u001B[39;00m \u001B[38;5;241m1\u001B[39m \u001B[38;5;241m<\u001B[39m\u001B[38;5;241m=\u001B[39m \u001B[38;5;28mself\u001B[39m\u001B[38;5;241m.\u001B[39maudio_reader\u001B[38;5;241m.\u001B[39mgetnchannels() \u001B[38;5;241m<\u001B[39m\u001B[38;5;241m=\u001B[39m \u001B[38;5;241m2\u001B[39m, \u001B[38;5;124m\"\u001B[39m\u001B[38;5;124mAudio must be mono or stereo\u001B[39m\u001B[38;5;124m\"\u001B[39m\n",
      "\u001B[0;31mValueError\u001B[0m: Audio file could not be read as PCM WAV, AIFF/AIFF-C, or Native FLAC; check if file is corrupted or in another format"
     ]
    }
   ],
   "execution_count": 47
  },
  {
   "metadata": {},
   "cell_type": "code",
   "source": "pygame.quit()",
   "id": "988e3e63d4d91294",
   "outputs": [],
   "execution_count": null
  }
 ],
 "metadata": {
  "kernelspec": {
   "display_name": "Python 3",
   "language": "python",
   "name": "python3"
  },
  "language_info": {
   "codemirror_mode": {
    "name": "ipython",
    "version": 2
   },
   "file_extension": ".py",
   "mimetype": "text/x-python",
   "name": "python",
   "nbconvert_exporter": "python",
   "pygments_lexer": "ipython2",
   "version": "2.7.6"
  }
 },
 "nbformat": 4,
 "nbformat_minor": 5
}
