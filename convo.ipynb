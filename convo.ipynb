{
 "cells": [
  {
   "cell_type": "code",
   "execution_count": null,
   "id": "initial_id",
   "metadata": {
    "collapsed": true
   },
   "outputs": [],
   "source": [
    "import google.generativeai as genai\n",
    "from google.cloud import translate_v2 as translate\n",
    "import pygame"
   ]
  },
  {
   "metadata": {},
   "cell_type": "code",
   "outputs": [],
   "execution_count": null,
   "source": [
    "import torch\n",
    "import sounddevice as sd"
   ],
   "id": "8f0eb6ba2fff7192"
  },
  {
   "metadata": {},
   "cell_type": "code",
   "outputs": [],
   "execution_count": null,
   "source": [
    "from dotenv import load_dotenv\n",
    "import os\n",
    "load_dotenv()\n",
    "GOOGLE_API_KEY=os.getenv(\"GOOGLE_API_KEY\")"
   ],
   "id": "6c33bcf18e7af1f"
  },
  {
   "metadata": {},
   "cell_type": "code",
   "outputs": [],
   "execution_count": null,
   "source": "genai.configure(api_key=GOOGLE_API_KEY)",
   "id": "e2499cea29579743"
  },
  {
   "metadata": {},
   "cell_type": "code",
   "outputs": [],
   "execution_count": null,
   "source": "english='en'",
   "id": "a8ae90ace3a850b"
  },
  {
   "metadata": {},
   "cell_type": "code",
   "outputs": [],
   "execution_count": null,
   "source": [
    "for m in genai.list_models():\n",
    "    if 'generateContent' in m.supported_generation_methods:\n",
    "        print(m.name)"
   ],
   "id": "501e0f77708df963"
  },
  {
   "metadata": {},
   "cell_type": "code",
   "outputs": [],
   "execution_count": null,
   "source": "model = genai.GenerativeModel('gemini-pro')",
   "id": "8e1fbf2285fc63ce"
  },
  {
   "metadata": {},
   "cell_type": "code",
   "outputs": [],
   "execution_count": null,
   "source": [
    "def recordaudio(filename,duration=5,fs=44100):\n",
    "    print('recording...')\n",
    "    recording=sd.rec(int(duration*fs),samplerate=fs,channels=1)\n",
    "    sd.wait()\n",
    "    write(filename,fs,recording)\n",
    "    result=pipe(filename,generate_kwargs={'language':lang})\n",
    "    return result['text']"
   ],
   "id": "2e36ea4489cde5a6"
  },
  {
   "metadata": {},
   "cell_type": "code",
   "outputs": [],
   "execution_count": null,
   "source": [
    "def play_audio(file):\n",
    "    sound=pygame.mixer.Sound(file)\n",
    "    recordlength=int(sound.get_length()*1000)\n",
    "    sound.play()\n",
    "    pygame.time.wait(recordlength)"
   ],
   "id": "867a7ca8d3aad330"
  },
  {
   "metadata": {},
   "cell_type": "code",
   "outputs": [],
   "execution_count": null,
   "source": [
    "def make_speech_file(speech_file_path,text):\n",
    "    response"
   ],
   "id": "f9c45239d853c741"
  },
  {
   "metadata": {},
   "cell_type": "code",
   "outputs": [],
   "execution_count": null,
   "source": [
    "def translate_to(lang,text):\n",
    "    transclient=translate.Client()\n",
    "    if isinstance(text,bytes):\n",
    "        text=text.decode('utf-8')\n",
    "    result=transclient.translate(text,target_language=lang)\n",
    "    return result"
   ],
   "id": "f7b7fc6d3376440a"
  },
  {
   "metadata": {},
   "cell_type": "code",
   "outputs": [],
   "execution_count": null,
   "source": [
    "def generate_response(input_text):\n",
    "    prompt='Please respond logically to the following sentence in a conversation: '+input_text\n",
    "    generation=model.generate_content(prompt).text\n",
    "    #print(generation)\n",
    "    return generation"
   ],
   "id": "815bc8a8cb83a70"
  },
  {
   "metadata": {},
   "cell_type": "code",
   "outputs": [],
   "execution_count": null,
   "source": [
    "def machine_turn(text):\n",
    "    machine_file='recordings/machine.wav'\n",
    "    if text=='':\n",
    "        eng='Hello, how are you today?'\n",
    "        talk=translate_to(lang,eng)\n",
    "    else:\n",
    "        talk=generate_response(text)\n",
    "    make_speech_file(machine_file,talk)\n",
    "    eng=translate_to(english,machine_file)\n",
    "    play_audio(machine_file)\n",
    "    print('Computer: '+talk+' ('+eng+')')"
   ],
   "id": "45ed3a93bb960256"
  },
  {
   "metadata": {},
   "cell_type": "code",
   "outputs": [],
   "execution_count": null,
   "source": [
    "def human_turn():\n",
    "    file='recordings/human.wav'\n",
    "    talk=record_audio(file)\n",
    "    eng=translate_to(english,file)\n",
    "    print('Me: '+talk+' ('+eng+')')\n",
    "    return talk"
   ],
   "id": "c96ff1d616a499ee"
  },
  {
   "metadata": {},
   "cell_type": "code",
   "outputs": [],
   "execution_count": null,
   "source": [
    "def conversation():\n",
    "    human_response=''\n",
    "    x=0\n",
    "    while x!=5:\n",
    "        machine_turn(human_response)\n",
    "        human_response=human_turn()\n",
    "        x+=1"
   ],
   "id": "365fb73a8de161c9"
  },
  {
   "metadata": {},
   "cell_type": "code",
   "outputs": [],
   "execution_count": null,
   "source": [
    "lang='en'\n",
    "pygame.init()\n",
    "conversation()"
   ],
   "id": "c55411b38767e5ab"
  },
  {
   "metadata": {},
   "cell_type": "code",
   "outputs": [],
   "execution_count": null,
   "source": "pygame.quit()",
   "id": "988e3e63d4d91294"
  }
 ],
 "metadata": {
  "kernelspec": {
   "display_name": "Python 3",
   "language": "python",
   "name": "python3"
  },
  "language_info": {
   "codemirror_mode": {
    "name": "ipython",
    "version": 2
   },
   "file_extension": ".py",
   "mimetype": "text/x-python",
   "name": "python",
   "nbconvert_exporter": "python",
   "pygments_lexer": "ipython2",
   "version": "2.7.6"
  }
 },
 "nbformat": 4,
 "nbformat_minor": 5
}
