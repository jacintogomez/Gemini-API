{
 "cells": [
  {
   "cell_type": "code",
   "id": "initial_id",
   "metadata": {
    "collapsed": true,
    "ExecuteTime": {
     "end_time": "2024-04-28T03:54:06.025357Z",
     "start_time": "2024-04-28T03:54:05.623025Z"
    }
   },
   "source": [
    "import google.generativeai as genai\n",
    "from google.cloud import translate_v2 as translate"
   ],
   "outputs": [],
   "execution_count": 1
  },
  {
   "metadata": {
    "ExecuteTime": {
     "end_time": "2024-04-28T03:54:10.021458Z",
     "start_time": "2024-04-28T03:54:07.447148Z"
    }
   },
   "cell_type": "code",
   "source": [
    "import pygame\n",
    "import torch\n",
    "import sounddevice as sd\n",
    "import os\n",
    "from transformers import AutoModelForSpeechSeq2Seq, AutoProcessor, pipeline\n",
    "from scipy.io.wavfile import write\n",
    "from dotenv import load_dotenv\n",
    "from openai import OpenAI\n",
    "from langchain_openai import ChatOpenAI\n",
    "from langchain_core.prompts import ChatPromptTemplate\n",
    "from langchain_core.output_parsers import StrOutputParser\n",
    "from google.cloud import texttospeech"
   ],
   "id": "8f0eb6ba2fff7192",
   "outputs": [
    {
     "name": "stdout",
     "output_type": "stream",
     "text": [
      "pygame 2.5.2 (SDL 2.28.3, Python 3.11.8)\n",
      "Hello from the pygame community. https://www.pygame.org/contribute.html\n"
     ]
    }
   ],
   "execution_count": 2
  },
  {
   "metadata": {
    "ExecuteTime": {
     "end_time": "2024-04-28T03:54:10.818602Z",
     "start_time": "2024-04-28T03:54:10.785867Z"
    }
   },
   "cell_type": "code",
   "source": [
    "load_dotenv()\n",
    "GOOGLE_API_KEY=os.getenv(\"GOOGLE_API_KEY\")\n",
    "openai_api_key=os.getenv(\"OPENAI_API_KEY\")\n",
    "client=OpenAI()"
   ],
   "id": "6c33bcf18e7af1f",
   "outputs": [],
   "execution_count": 3
  },
  {
   "metadata": {
    "ExecuteTime": {
     "end_time": "2024-04-28T03:54:12.293077Z",
     "start_time": "2024-04-28T03:54:12.239802Z"
    }
   },
   "cell_type": "code",
   "source": [
    "llm=ChatOpenAI()\n",
    "prompt=ChatPromptTemplate.from_messages([\n",
    "    (\"system\", \"Respond conversationally to the given input, in whatever language it is given in\"),\n",
    "    (\"user\", \"{input}\")\n",
    "])\n",
    "output_parser=StrOutputParser()\n",
    "chain=prompt|llm|output_parser"
   ],
   "id": "5461c867697bdb8a",
   "outputs": [],
   "execution_count": 4
  },
  {
   "metadata": {
    "ExecuteTime": {
     "end_time": "2024-04-28T03:54:14.776947Z",
     "start_time": "2024-04-28T03:54:12.962565Z"
    }
   },
   "cell_type": "code",
   "source": [
    "device=\"cuda:0\" if torch.cuda.is_available() else \"cpu\"\n",
    "torch_dtype=torch.float16 if torch.cuda.is_available() else torch.float32\n",
    "model_id=\"openai/whisper-base\"\n",
    "openaimodel=AutoModelForSpeechSeq2Seq.from_pretrained(\n",
    "    model_id,torch_dtype=torch_dtype,\n",
    "    use_safetensors=True\n",
    ")\n",
    "openaimodel.to(device)\n",
    "processor=AutoProcessor.from_pretrained(model_id)\n",
    "pipe=pipeline(\n",
    "    \"automatic-speech-recognition\",\n",
    "    model=openaimodel,\n",
    "    tokenizer=processor.tokenizer,\n",
    "    feature_extractor=processor.feature_extractor,\n",
    "    max_new_tokens=128,\n",
    "    chunk_length_s=30,\n",
    "    batch_size=16,\n",
    "    return_timestamps=True,\n",
    "    torch_dtype=torch_dtype,\n",
    "    device=device,\n",
    ")"
   ],
   "id": "456adc265a578d6",
   "outputs": [
    {
     "name": "stderr",
     "output_type": "stream",
     "text": [
      "Special tokens have been added in the vocabulary, make sure the associated word embeddings are fine-tuned or trained.\n"
     ]
    }
   ],
   "execution_count": 5
  },
  {
   "metadata": {
    "ExecuteTime": {
     "end_time": "2024-04-28T03:54:15.449262Z",
     "start_time": "2024-04-28T03:54:15.446257Z"
    }
   },
   "cell_type": "code",
   "source": "genai.configure(api_key=GOOGLE_API_KEY)",
   "id": "e2499cea29579743",
   "outputs": [],
   "execution_count": 6
  },
  {
   "metadata": {
    "ExecuteTime": {
     "end_time": "2024-04-28T03:54:15.912613Z",
     "start_time": "2024-04-28T03:54:15.908620Z"
    }
   },
   "cell_type": "code",
   "source": "os.environ[\"GOOGLE_APPLICATION_CREDENTIALS\"] = os.getenv(\"TRANSLATION_CREDENTIALS_PATH\")",
   "id": "6d71c4715390004f",
   "outputs": [],
   "execution_count": 7
  },
  {
   "metadata": {
    "ExecuteTime": {
     "end_time": "2024-04-28T03:54:16.397521Z",
     "start_time": "2024-04-28T03:54:16.395416Z"
    }
   },
   "cell_type": "code",
   "source": "english='en'",
   "id": "a8ae90ace3a850b",
   "outputs": [],
   "execution_count": 8
  },
  {
   "metadata": {
    "ExecuteTime": {
     "end_time": "2024-04-28T03:54:17.163513Z",
     "start_time": "2024-04-28T03:54:16.956380Z"
    }
   },
   "cell_type": "code",
   "source": [
    "for m in genai.list_models():\n",
    "    if 'generateContent' in m.supported_generation_methods:\n",
    "        print(m.name)"
   ],
   "id": "501e0f77708df963",
   "outputs": [
    {
     "name": "stdout",
     "output_type": "stream",
     "text": [
      "models/gemini-1.0-pro\n",
      "models/gemini-1.0-pro-001\n",
      "models/gemini-1.0-pro-latest\n",
      "models/gemini-1.0-pro-vision-latest\n",
      "models/gemini-1.5-pro-latest\n",
      "models/gemini-pro\n",
      "models/gemini-pro-vision\n"
     ]
    }
   ],
   "execution_count": 9
  },
  {
   "metadata": {
    "ExecuteTime": {
     "end_time": "2024-04-28T03:54:17.987774Z",
     "start_time": "2024-04-28T03:54:17.982500Z"
    }
   },
   "cell_type": "code",
   "source": "model = genai.GenerativeModel('gemini-pro')",
   "id": "8e1fbf2285fc63ce",
   "outputs": [],
   "execution_count": 10
  },
  {
   "metadata": {
    "ExecuteTime": {
     "end_time": "2024-04-28T03:54:18.946677Z",
     "start_time": "2024-04-28T03:54:18.940694Z"
    }
   },
   "cell_type": "code",
   "source": [
    "def record_audio(filename,duration=5,fs=44100):\n",
    "    print('recording...')\n",
    "    recording=sd.rec(int(duration*fs),samplerate=fs,channels=1)\n",
    "    sd.wait()\n",
    "    write(filename,fs,recording)\n",
    "    result=pipe(filename,generate_kwargs={'language':lang})\n",
    "    return result['text']"
   ],
   "id": "2e36ea4489cde5a6",
   "outputs": [],
   "execution_count": 11
  },
  {
   "metadata": {
    "ExecuteTime": {
     "end_time": "2024-04-28T03:54:19.570258Z",
     "start_time": "2024-04-28T03:54:19.567575Z"
    }
   },
   "cell_type": "code",
   "source": [
    "def play_audio(file):\n",
    "    sound=pygame.mixer.Sound(file)\n",
    "    recordlength=int(sound.get_length()*1000)\n",
    "    sound.play()\n",
    "    pygame.time.wait(recordlength)"
   ],
   "id": "867a7ca8d3aad330",
   "outputs": [],
   "execution_count": 12
  },
  {
   "metadata": {
    "ExecuteTime": {
     "end_time": "2024-04-28T03:54:20.315536Z",
     "start_time": "2024-04-28T03:54:20.310232Z"
    }
   },
   "cell_type": "code",
   "source": [
    "def make_speech_file(speech_file_path,text):\n",
    "    googclient = texttospeech.TextToSpeechClient()\n",
    "    synthesis_input = texttospeech.SynthesisInput(text=text)\n",
    "    voice=texttospeech.VoiceSelectionParams(\n",
    "        language_code=lang, ssml_gender=texttospeech.SsmlVoiceGender.NEUTRAL\n",
    "    )\n",
    "    audio_config = texttospeech.AudioConfig(\n",
    "        audio_encoding=texttospeech.AudioEncoding.MP3\n",
    "    )\n",
    "    response = googclient.synthesize_speech(\n",
    "        input=synthesis_input, voice=voice, audio_config=audio_config\n",
    "    )\n",
    "    with open(speech_file_path, \"wb\") as out:\n",
    "        out.write(response.audio_content)\n",
    "        print('Audio content written to file \"output.mp3\"')"
   ],
   "id": "f9c45239d853c741",
   "outputs": [],
   "execution_count": 13
  },
  {
   "metadata": {
    "ExecuteTime": {
     "end_time": "2024-04-28T03:54:20.941294Z",
     "start_time": "2024-04-28T03:54:20.938086Z"
    }
   },
   "cell_type": "code",
   "source": [
    "def translate_to(lang,text):\n",
    "    transclient=translate.Client()\n",
    "    if isinstance(text,bytes):\n",
    "        text=text.decode('utf-8')\n",
    "    result=transclient.translate(text,target_language=lang)\n",
    "    return result['translatedText']"
   ],
   "id": "f7b7fc6d3376440a",
   "outputs": [],
   "execution_count": 14
  },
  {
   "metadata": {
    "ExecuteTime": {
     "end_time": "2024-04-28T03:54:21.792131Z",
     "start_time": "2024-04-28T03:54:21.788127Z"
    }
   },
   "cell_type": "code",
   "source": [
    "def generate_response(input_text):\n",
    "    prompt='Please respond logically to the following sentence in a conversation: '+input_text\n",
    "    generation=model.generate_content(prompt).text\n",
    "    #print(generation)\n",
    "    return generation"
   ],
   "id": "815bc8a8cb83a70",
   "outputs": [],
   "execution_count": 15
  },
  {
   "metadata": {
    "ExecuteTime": {
     "end_time": "2024-04-28T03:54:22.811878Z",
     "start_time": "2024-04-28T03:54:22.808884Z"
    }
   },
   "cell_type": "code",
   "source": [
    "def machine_turn(text):\n",
    "    machine_file='recordings/machine.wav'\n",
    "    if text=='':\n",
    "        eng='Hello, how are you today?'\n",
    "        talk=translate_to(lang,eng)\n",
    "    else:\n",
    "        talk=generate_response(text)\n",
    "    make_speech_file(machine_file,talk)\n",
    "    eng=translate_to(english,machine_file)\n",
    "    play_audio(machine_file)\n",
    "    print('Computer: '+talk+' ('+eng+')')"
   ],
   "id": "45ed3a93bb960256",
   "outputs": [],
   "execution_count": 16
  },
  {
   "metadata": {
    "ExecuteTime": {
     "end_time": "2024-04-28T03:54:24.177590Z",
     "start_time": "2024-04-28T03:54:24.173680Z"
    }
   },
   "cell_type": "code",
   "source": [
    "def human_turn():\n",
    "    file='recordings/human.wav'\n",
    "    talk=record_audio(file)\n",
    "    eng=translate_to(english,file)\n",
    "    print('Me: '+talk+' ('+eng+')')\n",
    "    return talk"
   ],
   "id": "c96ff1d616a499ee",
   "outputs": [],
   "execution_count": 17
  },
  {
   "metadata": {
    "ExecuteTime": {
     "end_time": "2024-04-28T03:54:24.973860Z",
     "start_time": "2024-04-28T03:54:24.970328Z"
    }
   },
   "cell_type": "code",
   "source": [
    "def conversation():\n",
    "    human_response=''\n",
    "    x=0\n",
    "    while x!=5:\n",
    "        machine_turn(human_response)\n",
    "        human_response=human_turn()\n",
    "        x+=1"
   ],
   "id": "365fb73a8de161c9",
   "outputs": [],
   "execution_count": 18
  },
  {
   "metadata": {
    "ExecuteTime": {
     "end_time": "2024-04-28T03:54:25.918399Z",
     "start_time": "2024-04-28T03:54:25.915470Z"
    }
   },
   "cell_type": "code",
   "source": "lang='en'",
   "id": "9ac6efe0a8af5751",
   "outputs": [],
   "execution_count": 19
  },
  {
   "metadata": {
    "ExecuteTime": {
     "end_time": "2024-04-28T03:54:28.240054Z",
     "start_time": "2024-04-28T03:54:27.154294Z"
    }
   },
   "cell_type": "code",
   "source": "pygame.init()",
   "id": "ebae1a6e11b97763",
   "outputs": [
    {
     "data": {
      "text/plain": [
       "(5, 0)"
      ]
     },
     "execution_count": 20,
     "metadata": {},
     "output_type": "execute_result"
    }
   ],
   "execution_count": 20
  },
  {
   "metadata": {
    "ExecuteTime": {
     "end_time": "2024-04-28T03:54:57.180828Z",
     "start_time": "2024-04-28T03:54:30.665121Z"
    }
   },
   "cell_type": "code",
   "source": "conversation()",
   "id": "c55411b38767e5ab",
   "outputs": [
    {
     "name": "stdout",
     "output_type": "stream",
     "text": [
      "Audio content written to file \"output.mp3\"\n",
      "Computer: Hello, how are you today? (recordings/machine.wav)\n",
      "recording...\n",
      "Me:  I'm doing well. How about you? (recordings/human.wav)\n",
      "Audio content written to file \"output.mp3\"\n"
     ]
    },
    {
     "ename": "KeyboardInterrupt",
     "evalue": "",
     "output_type": "error",
     "traceback": [
      "\u001B[0;31m---------------------------------------------------------------------------\u001B[0m",
      "\u001B[0;31mKeyboardInterrupt\u001B[0m                         Traceback (most recent call last)",
      "Cell \u001B[0;32mIn[21], line 1\u001B[0m\n\u001B[0;32m----> 1\u001B[0m \u001B[43mconversation\u001B[49m\u001B[43m(\u001B[49m\u001B[43m)\u001B[49m\n",
      "Cell \u001B[0;32mIn[18], line 5\u001B[0m, in \u001B[0;36mconversation\u001B[0;34m()\u001B[0m\n\u001B[1;32m      3\u001B[0m x\u001B[38;5;241m=\u001B[39m\u001B[38;5;241m0\u001B[39m\n\u001B[1;32m      4\u001B[0m \u001B[38;5;28;01mwhile\u001B[39;00m x\u001B[38;5;241m!=\u001B[39m\u001B[38;5;241m5\u001B[39m:\n\u001B[0;32m----> 5\u001B[0m     \u001B[43mmachine_turn\u001B[49m\u001B[43m(\u001B[49m\u001B[43mhuman_response\u001B[49m\u001B[43m)\u001B[49m\n\u001B[1;32m      6\u001B[0m     human_response\u001B[38;5;241m=\u001B[39mhuman_turn()\n\u001B[1;32m      7\u001B[0m     x\u001B[38;5;241m+\u001B[39m\u001B[38;5;241m=\u001B[39m\u001B[38;5;241m1\u001B[39m\n",
      "Cell \u001B[0;32mIn[16], line 10\u001B[0m, in \u001B[0;36mmachine_turn\u001B[0;34m(text)\u001B[0m\n\u001B[1;32m      8\u001B[0m make_speech_file(machine_file,talk)\n\u001B[1;32m      9\u001B[0m eng\u001B[38;5;241m=\u001B[39mtranslate_to(english,machine_file)\n\u001B[0;32m---> 10\u001B[0m \u001B[43mplay_audio\u001B[49m\u001B[43m(\u001B[49m\u001B[43mmachine_file\u001B[49m\u001B[43m)\u001B[49m\n\u001B[1;32m     11\u001B[0m \u001B[38;5;28mprint\u001B[39m(\u001B[38;5;124m'\u001B[39m\u001B[38;5;124mComputer: \u001B[39m\u001B[38;5;124m'\u001B[39m\u001B[38;5;241m+\u001B[39mtalk\u001B[38;5;241m+\u001B[39m\u001B[38;5;124m'\u001B[39m\u001B[38;5;124m (\u001B[39m\u001B[38;5;124m'\u001B[39m\u001B[38;5;241m+\u001B[39meng\u001B[38;5;241m+\u001B[39m\u001B[38;5;124m'\u001B[39m\u001B[38;5;124m)\u001B[39m\u001B[38;5;124m'\u001B[39m)\n",
      "Cell \u001B[0;32mIn[12], line 5\u001B[0m, in \u001B[0;36mplay_audio\u001B[0;34m(file)\u001B[0m\n\u001B[1;32m      3\u001B[0m recordlength\u001B[38;5;241m=\u001B[39m\u001B[38;5;28mint\u001B[39m(sound\u001B[38;5;241m.\u001B[39mget_length()\u001B[38;5;241m*\u001B[39m\u001B[38;5;241m1000\u001B[39m)\n\u001B[1;32m      4\u001B[0m sound\u001B[38;5;241m.\u001B[39mplay()\n\u001B[0;32m----> 5\u001B[0m \u001B[43mpygame\u001B[49m\u001B[38;5;241;43m.\u001B[39;49m\u001B[43mtime\u001B[49m\u001B[38;5;241;43m.\u001B[39;49m\u001B[43mwait\u001B[49m\u001B[43m(\u001B[49m\u001B[43mrecordlength\u001B[49m\u001B[43m)\u001B[49m\n",
      "\u001B[0;31mKeyboardInterrupt\u001B[0m: "
     ]
    }
   ],
   "execution_count": 21
  },
  {
   "metadata": {},
   "cell_type": "code",
   "source": "pygame.quit()",
   "id": "988e3e63d4d91294",
   "outputs": [],
   "execution_count": null
  }
 ],
 "metadata": {
  "kernelspec": {
   "display_name": "Python 3",
   "language": "python",
   "name": "python3"
  },
  "language_info": {
   "codemirror_mode": {
    "name": "ipython",
    "version": 2
   },
   "file_extension": ".py",
   "mimetype": "text/x-python",
   "name": "python",
   "nbconvert_exporter": "python",
   "pygments_lexer": "ipython2",
   "version": "2.7.6"
  }
 },
 "nbformat": 4,
 "nbformat_minor": 5
}
